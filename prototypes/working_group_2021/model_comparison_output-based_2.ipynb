{
 "cells": [
  {
   "cell_type": "markdown",
   "id": "8dc4c8d7",
   "metadata": {},
   "source": [
    "# O'Sullivan / Koven method"
   ]
  },
  {
   "cell_type": "code",
   "execution_count": 1,
   "id": "0a12779d",
   "metadata": {},
   "outputs": [],
   "source": [
    "# from IPython.display import Markdown, display\n",
    "# display(Markdown(\"TracebilityText.md\"))"
   ]
  },
  {
   "cell_type": "markdown",
   "id": "41808f4a",
   "metadata": {},
   "source": [
    "### Loading required packages  and functions"
   ]
  },
  {
   "cell_type": "code",
   "execution_count": 2,
   "id": "fb92a0fd",
   "metadata": {},
   "outputs": [],
   "source": [
    "%load_ext autoreload\n",
    "%autoreload 2\n",
    "import matplotlib.pyplot as plt\n",
    "import numpy as np\n",
    "from functools import lru_cache\n",
    "import general_helpers as gh\n",
    "from bgc_md2.resolve.mvars import (\n",
    "    CompartmentalMatrix,\n",
    "    InputTuple,\n",
    "    StateVariableTuple\n",
    ")"
   ]
  },
  {
   "cell_type": "markdown",
   "id": "881dbf98",
   "metadata": {},
   "source": [
    "### Selecting models to compare"
   ]
  },
  {
   "cell_type": "code",
   "execution_count": 3,
   "id": "5e9fcb63",
   "metadata": {},
   "outputs": [],
   "source": [
    "model_names={\n",
    "    \"ab_classic\":\"CLASSIC\",  \n",
    "    \"clm5\":\"CLM5.0\",\n",
    "    \"kv_ft_dlem\": \"DLEM\", \n",
    "    \"bian_ibis2\":\"IBIS\",    \n",
    "    \"cj_isam\": \"ISAM\",    \n",
    "    \"isba-ctrip\":\"ISBA-CTRIP\",    \n",
    "    \"jsbach\":\"JSBACH\",\n",
    "    \"yz_jules\": \"JULES-ES-1p0\",    \n",
    "    \"lpj-guess\":\"LPJ-GUESS\",\n",
    "    \"lpjwsl\":\"LPJ\",\n",
    "    \"lpx-bern\":\"LPX-Bern\",\n",
    "    \"ORCHIDEE-V2\":\"OCN\",    \n",
    "    \"ORCHIDEE\":\"ORCHIDEE\",\n",
    "    \"ORCHIDEE-CNP\":\"ORCHIDEE-CNP\",    \n",
    "    \"ORCHIDEEv3\":\"ORCHIDEEv3\",\n",
    "    \"Aneesh_SDGVM\":\"SDGVM\",\n",
    "    \"kv_visit2\": \"VISIT\",\n",
    "    \"jon_yib\": \"YIBs\"    \n",
    "}\n",
    "model_folders=[(k) for k in model_names]\n",
    "m_names=list(model_names.values())\n",
    "experiment_names_S2=list()\n",
    "for name in m_names:\n",
    "    experiment_names_S2.append(name + \"_S2_\") \n",
    "experiment_names_S3=list()\n",
    "for name in m_names:\n",
    "    experiment_names_S3.append(name + \"_S3_\") \n",
    "#experiment_names_S2"
   ]
  },
  {
   "cell_type": "markdown",
   "id": "11f29c82",
   "metadata": {},
   "source": [
    "### Loading TRENDY data and model parameters"
   ]
  },
  {
   "cell_type": "code",
   "execution_count": null,
   "id": "113d1f97",
   "metadata": {
    "scrolled": false
   },
   "outputs": [
    {
     "name": "stdout",
     "output_type": "stream",
     "text": [
      "\u001b[1mab_classic\n",
      "\u001b[0m\n",
      " Found cached global mean files. If you want to recompute the global means\n",
      "            remove the following files: \n",
      "C:\\Users\\kv248\\OneDrive - Cornell University\\Data\\Matrix MIP data\\TRENDY\\CLASSIC\\CLASSIC_S2_gm_all_vars.nc\n",
      "\u001b[1mclm5\n",
      "\u001b[0m\n",
      " Found cached global mean files. If you want to recompute the global means\n",
      "            remove the following files: \n",
      "C:\\Users\\kv248\\OneDrive - Cornell University\\Data\\Matrix MIP data\\TRENDY\\CLM5\\CLM5.0_S2_gm_all_vars.nc\n",
      "\u001b[1mkv_ft_dlem\n",
      "\u001b[0m\n",
      " Found cached global mean files. If you want to recompute the global means\n",
      "            remove the following files: \n",
      "C:\\Users\\kv248\\OneDrive - Cornell University\\Data\\Matrix MIP data\\TRENDY\\DLEM\\DLEM_S2_gm_all_vars.nc\n",
      "\u001b[1mbian_ibis2\n",
      "\u001b[0m\n",
      " Found cached global mean files. If you want to recompute the global means\n",
      "            remove the following files: \n",
      "C:\\Users\\kv248\\OneDrive - Cornell University\\Data\\Matrix MIP data\\TRENDY\\IBIS\\IBIS_S2_gm_all_vars.nc\n",
      "\u001b[1mcj_isam\n",
      "\u001b[0m\n",
      " Found cached global mean files. If you want to recompute the global means\n",
      "            remove the following files: \n",
      "C:\\Users\\kv248\\OneDrive - Cornell University\\Data\\Matrix MIP data\\TRENDY\\ISAM\\ISAM_S2_gm_all_vars.nc\n",
      "\u001b[1misba-ctrip\n",
      "\u001b[0m\n",
      " Found cached global mean files. If you want to recompute the global means\n",
      "            remove the following files: \n",
      "C:\\Users\\kv248\\OneDrive - Cornell University\\Data\\Matrix MIP data\\TRENDY\\ISBA_CTRIP\\ISBA-CTRIP_S2_gm_all_vars.nc\n",
      "\u001b[1mjsbach\n",
      "\u001b[0m\n",
      " Found cached global mean files. If you want to recompute the global means\n",
      "            remove the following files: \n",
      "C:\\Users\\kv248\\OneDrive - Cornell University\\Data\\Matrix MIP data\\TRENDY\\JSBACH\\JSBACH_S2_gm_all_vars.nc\n",
      "\u001b[1myz_jules\n",
      "\u001b[0m\n",
      "computing means, this may take some minutes...\n",
      "('cVeg', 'cSoil', 'gpp', 'npp_nlim', 'rh')\n",
      "C:\\Users\\kv248\\OneDrive - Cornell University\\Data\\Matrix MIP data\\TRENDY\\JULES-ES-1.0\\JULES-ES-1p0_S2_cVeg.nc\n"
     ]
    },
    {
     "name": "stderr",
     "output_type": "stream",
     "text": [
      "100%|██████████████████████████████████████████████████████████████████████████████| 3840/3840 [16:04<00:00,  3.98it/s]\n"
     ]
    },
    {
     "name": "stdout",
     "output_type": "stream",
     "text": [
      "C:\\Users\\kv248\\OneDrive - Cornell University\\Data\\Matrix MIP data\\TRENDY\\JULES-ES-1.0\\JULES-ES-1p0_S2_cSoil.nc\n"
     ]
    },
    {
     "name": "stderr",
     "output_type": "stream",
     "text": [
      "100%|██████████████████████████████████████████████████████████████████████████████| 3840/3840 [15:53<00:00,  4.03it/s]\n"
     ]
    },
    {
     "name": "stdout",
     "output_type": "stream",
     "text": [
      "C:\\Users\\kv248\\OneDrive - Cornell University\\Data\\Matrix MIP data\\TRENDY\\JULES-ES-1.0\\JULES-ES-1p0_S2_gpp.nc\n"
     ]
    },
    {
     "name": "stderr",
     "output_type": "stream",
     "text": [
      "100%|██████████████████████████████████████████████████████████████████████████████| 3840/3840 [17:29<00:00,  3.66it/s]\n"
     ]
    },
    {
     "name": "stdout",
     "output_type": "stream",
     "text": [
      "C:\\Users\\kv248\\OneDrive - Cornell University\\Data\\Matrix MIP data\\TRENDY\\JULES-ES-1.0\\JULES-ES-1p0_S2_npp.nc\n"
     ]
    },
    {
     "name": "stderr",
     "output_type": "stream",
     "text": [
      "100%|██████████████████████████████████████████████████████████████████████████████| 3840/3840 [20:46<00:00,  3.08it/s]\n"
     ]
    },
    {
     "name": "stdout",
     "output_type": "stream",
     "text": [
      "C:\\Users\\kv248\\OneDrive - Cornell University\\Data\\Matrix MIP data\\TRENDY\\JULES-ES-1.0\\JULES-ES-1p0_S2_rh.nc\n"
     ]
    },
    {
     "name": "stderr",
     "output_type": "stream",
     "text": [
      "100%|██████████████████████████████████████████████████████████████████████████████| 3840/3840 [19:57<00:00,  3.21it/s]\n"
     ]
    },
    {
     "name": "stdout",
     "output_type": "stream",
     "text": [
      "\u001b[1mlpj-guess\n",
      "\u001b[0m\n",
      "computing means, this may take some minutes...\n",
      "('cVeg', 'cLitter', 'cSoil', 'gpp', 'npp', 'ra', 'rh')\n",
      "C:\\Users\\kv248\\OneDrive - Cornell University\\Data\\Matrix MIP data\\TRENDY\\LPJ-GUESS\\LPJ-GUESS_S2_cVeg.nc\n"
     ]
    },
    {
     "name": "stderr",
     "output_type": "stream",
     "text": [
      "100%|███████████████████████████████████████████████████████████████████████████████| 320/320 [00:01<00:00, 275.45it/s]\n"
     ]
    },
    {
     "name": "stdout",
     "output_type": "stream",
     "text": [
      "C:\\Users\\kv248\\OneDrive - Cornell University\\Data\\Matrix MIP data\\TRENDY\\LPJ-GUESS\\LPJ-GUESS_S2_cLitter.nc\n"
     ]
    },
    {
     "name": "stderr",
     "output_type": "stream",
     "text": [
      "100%|███████████████████████████████████████████████████████████████████████████████| 320/320 [00:01<00:00, 296.00it/s]\n"
     ]
    },
    {
     "name": "stdout",
     "output_type": "stream",
     "text": [
      "C:\\Users\\kv248\\OneDrive - Cornell University\\Data\\Matrix MIP data\\TRENDY\\LPJ-GUESS\\LPJ-GUESS_S2_cSoil.nc\n"
     ]
    },
    {
     "name": "stderr",
     "output_type": "stream",
     "text": [
      "100%|███████████████████████████████████████████████████████████████████████████████| 320/320 [00:01<00:00, 287.65it/s]\n"
     ]
    },
    {
     "name": "stdout",
     "output_type": "stream",
     "text": [
      "C:\\Users\\kv248\\OneDrive - Cornell University\\Data\\Matrix MIP data\\TRENDY\\LPJ-GUESS\\LPJ-GUESS_S2_gpp.nc\n"
     ]
    },
    {
     "name": "stderr",
     "output_type": "stream",
     "text": [
      "100%|█████████████████████████████████████████████████████████████████████████████| 3840/3840 [00:13<00:00, 284.72it/s]\n"
     ]
    },
    {
     "name": "stdout",
     "output_type": "stream",
     "text": [
      "C:\\Users\\kv248\\OneDrive - Cornell University\\Data\\Matrix MIP data\\TRENDY\\LPJ-GUESS\\LPJ-GUESS_S2_npp.nc\n"
     ]
    },
    {
     "name": "stderr",
     "output_type": "stream",
     "text": [
      "100%|█████████████████████████████████████████████████████████████████████████████| 3840/3840 [00:14<00:00, 266.52it/s]\n"
     ]
    },
    {
     "name": "stdout",
     "output_type": "stream",
     "text": [
      "C:\\Users\\kv248\\OneDrive - Cornell University\\Data\\Matrix MIP data\\TRENDY\\LPJ-GUESS\\LPJ-GUESS_S2_ra.nc\n"
     ]
    },
    {
     "name": "stderr",
     "output_type": "stream",
     "text": [
      "100%|█████████████████████████████████████████████████████████████████████████████| 3840/3840 [00:12<00:00, 302.97it/s]\n"
     ]
    },
    {
     "name": "stdout",
     "output_type": "stream",
     "text": [
      "C:\\Users\\kv248\\OneDrive - Cornell University\\Data\\Matrix MIP data\\TRENDY\\LPJ-GUESS\\LPJ-GUESS_S2_rh_annual.nc\n"
     ]
    },
    {
     "name": "stderr",
     "output_type": "stream",
     "text": [
      "100%|███████████████████████████████████████████████████████████████████████████████| 320/320 [00:01<00:00, 261.77it/s]\n"
     ]
    },
    {
     "name": "stdout",
     "output_type": "stream",
     "text": [
      "\u001b[1mlpjwsl\n",
      "\u001b[0m\n",
      "computing means, this may take some minutes...\n",
      "('cVeg', 'cLitter', 'cSoil', 'gpp', 'npp', 'ra', 'rh')\n",
      "C:\\Users\\kv248\\OneDrive - Cornell University\\Data\\Matrix MIP data\\TRENDY\\LPJwsl\\LPJ_S2_cVeg.nc\n"
     ]
    },
    {
     "name": "stderr",
     "output_type": "stream",
     "text": [
      "100%|███████████████████████████████████████████████████████████████████████████████| 320/320 [00:00<00:00, 372.73it/s]\n"
     ]
    },
    {
     "name": "stdout",
     "output_type": "stream",
     "text": [
      "C:\\Users\\kv248\\OneDrive - Cornell University\\Data\\Matrix MIP data\\TRENDY\\LPJwsl\\LPJ_S2_cLitter.nc\n"
     ]
    },
    {
     "name": "stderr",
     "output_type": "stream",
     "text": [
      "100%|███████████████████████████████████████████████████████████████████████████████| 320/320 [00:00<00:00, 365.57it/s]\n"
     ]
    },
    {
     "name": "stdout",
     "output_type": "stream",
     "text": [
      "C:\\Users\\kv248\\OneDrive - Cornell University\\Data\\Matrix MIP data\\TRENDY\\LPJwsl\\LPJ_S2_cSoil.nc\n"
     ]
    },
    {
     "name": "stderr",
     "output_type": "stream",
     "text": [
      "100%|███████████████████████████████████████████████████████████████████████████████| 320/320 [00:00<00:00, 408.44it/s]\n"
     ]
    },
    {
     "name": "stdout",
     "output_type": "stream",
     "text": [
      "C:\\Users\\kv248\\OneDrive - Cornell University\\Data\\Matrix MIP data\\TRENDY\\LPJwsl\\LPJ_S2_gpp.nc\n"
     ]
    },
    {
     "name": "stderr",
     "output_type": "stream",
     "text": [
      "100%|█████████████████████████████████████████████████████████████████████████████| 3840/3840 [00:09<00:00, 407.09it/s]\n"
     ]
    },
    {
     "name": "stdout",
     "output_type": "stream",
     "text": [
      "C:\\Users\\kv248\\OneDrive - Cornell University\\Data\\Matrix MIP data\\TRENDY\\LPJwsl\\LPJ_S2_npp.nc\n"
     ]
    },
    {
     "name": "stderr",
     "output_type": "stream",
     "text": [
      "100%|█████████████████████████████████████████████████████████████████████████████| 3840/3840 [00:09<00:00, 402.81it/s]\n"
     ]
    },
    {
     "name": "stdout",
     "output_type": "stream",
     "text": [
      "C:\\Users\\kv248\\OneDrive - Cornell University\\Data\\Matrix MIP data\\TRENDY\\LPJwsl\\LPJ_S2_ra.nc\n"
     ]
    },
    {
     "name": "stderr",
     "output_type": "stream",
     "text": [
      "100%|█████████████████████████████████████████████████████████████████████████████| 3840/3840 [00:09<00:00, 414.22it/s]\n"
     ]
    },
    {
     "name": "stdout",
     "output_type": "stream",
     "text": [
      "C:\\Users\\kv248\\OneDrive - Cornell University\\Data\\Matrix MIP data\\TRENDY\\LPJwsl\\LPJ_S2_rh.nc\n"
     ]
    },
    {
     "name": "stderr",
     "output_type": "stream",
     "text": [
      "100%|█████████████████████████████████████████████████████████████████████████████| 3840/3840 [00:09<00:00, 413.34it/s]\n"
     ]
    },
    {
     "name": "stdout",
     "output_type": "stream",
     "text": [
      "\u001b[1mlpx-bern\n",
      "\u001b[0m\n",
      "computing means, this may take some minutes...\n",
      "('cVeg', 'cLitter', 'cSoil', 'gpp', 'npp', 'ra', 'rh')\n",
      "C:\\Users\\kv248\\OneDrive - Cornell University\\Data\\Matrix MIP data\\TRENDY\\LPX-Bern\\LPX-Bern_S2_cVeg.nc\n"
     ]
    },
    {
     "name": "stderr",
     "output_type": "stream",
     "text": [
      "100%|████████████████████████████████████████████████████████████████████████████████| 320/320 [00:41<00:00,  7.64it/s]\n"
     ]
    },
    {
     "name": "stdout",
     "output_type": "stream",
     "text": [
      "C:\\Users\\kv248\\OneDrive - Cornell University\\Data\\Matrix MIP data\\TRENDY\\LPX-Bern\\LPX-Bern_S2_cLitter.nc\n"
     ]
    },
    {
     "name": "stderr",
     "output_type": "stream",
     "text": [
      "100%|████████████████████████████████████████████████████████████████████████████████| 320/320 [00:42<00:00,  7.55it/s]\n"
     ]
    },
    {
     "name": "stdout",
     "output_type": "stream",
     "text": [
      "C:\\Users\\kv248\\OneDrive - Cornell University\\Data\\Matrix MIP data\\TRENDY\\LPX-Bern\\LPX-Bern_S2_cSoil.nc\n"
     ]
    },
    {
     "name": "stderr",
     "output_type": "stream",
     "text": [
      "100%|████████████████████████████████████████████████████████████████████████████████| 320/320 [00:39<00:00,  8.15it/s]\n"
     ]
    },
    {
     "name": "stdout",
     "output_type": "stream",
     "text": [
      "C:\\Users\\kv248\\OneDrive - Cornell University\\Data\\Matrix MIP data\\TRENDY\\LPX-Bern\\LPX-Bern_S2_gpp.nc\n"
     ]
    },
    {
     "name": "stderr",
     "output_type": "stream",
     "text": [
      "100%|██████████████████████████████████████████████████████████████████████████████| 3840/3840 [47:42<00:00,  1.34it/s]\n"
     ]
    },
    {
     "name": "stdout",
     "output_type": "stream",
     "text": [
      "C:\\Users\\kv248\\OneDrive - Cornell University\\Data\\Matrix MIP data\\TRENDY\\LPX-Bern\\LPX-Bern_S2_npp.nc\n"
     ]
    },
    {
     "name": "stderr",
     "output_type": "stream",
     "text": [
      "100%|██████████████████████████████████████████████████████████████████████████████| 3840/3840 [48:56<00:00,  1.31it/s]\n"
     ]
    },
    {
     "name": "stdout",
     "output_type": "stream",
     "text": [
      "C:\\Users\\kv248\\OneDrive - Cornell University\\Data\\Matrix MIP data\\TRENDY\\LPX-Bern\\LPX-Bern_S2_ra.nc\n"
     ]
    },
    {
     "name": "stderr",
     "output_type": "stream",
     "text": [
      "100%|██████████████████████████████████████████████████████████████████████████████| 3840/3840 [49:23<00:00,  1.30it/s]\n"
     ]
    },
    {
     "name": "stdout",
     "output_type": "stream",
     "text": [
      "C:\\Users\\kv248\\OneDrive - Cornell University\\Data\\Matrix MIP data\\TRENDY\\LPX-Bern\\LPX-Bern_S2_rh.nc\n"
     ]
    },
    {
     "name": "stderr",
     "output_type": "stream",
     "text": [
      "100%|██████████████████████████████████████████████████████████████████████████████| 3840/3840 [48:24<00:00,  1.32it/s]\n"
     ]
    },
    {
     "name": "stdout",
     "output_type": "stream",
     "text": [
      "\u001b[1mORCHIDEE-V2\n",
      "\u001b[0m\n",
      "computing means, this may take some minutes...\n",
      "('cVeg', 'cLitter', 'cSoil', 'gpp', 'npp', 'ra', 'rh')\n",
      "C:\\Users\\kv248\\OneDrive - Cornell University\\Data\\Matrix MIP data\\TRENDY\\OCN\\OCN_S2_cVeg.nc\n"
     ]
    },
    {
     "name": "stderr",
     "output_type": "stream",
     "text": [
      "100%|██████████████████████████████████████████████████████████████████████████████| 320/320 [00:00<00:00, 1862.65it/s]\n"
     ]
    },
    {
     "name": "stdout",
     "output_type": "stream",
     "text": [
      "C:\\Users\\kv248\\OneDrive - Cornell University\\Data\\Matrix MIP data\\TRENDY\\OCN\\OCN_S2_cLitter.nc\n"
     ]
    },
    {
     "name": "stderr",
     "output_type": "stream",
     "text": [
      "100%|██████████████████████████████████████████████████████████████████████████████| 320/320 [00:00<00:00, 1862.63it/s]\n"
     ]
    },
    {
     "name": "stdout",
     "output_type": "stream",
     "text": [
      "C:\\Users\\kv248\\OneDrive - Cornell University\\Data\\Matrix MIP data\\TRENDY\\OCN\\OCN_S2_cSoil.nc\n"
     ]
    },
    {
     "name": "stderr",
     "output_type": "stream",
     "text": [
      "100%|██████████████████████████████████████████████████████████████████████████████| 320/320 [00:00<00:00, 1960.86it/s]\n"
     ]
    },
    {
     "name": "stdout",
     "output_type": "stream",
     "text": [
      "C:\\Users\\kv248\\OneDrive - Cornell University\\Data\\Matrix MIP data\\TRENDY\\OCN\\OCN_S2_gpp.nc\n"
     ]
    },
    {
     "name": "stderr",
     "output_type": "stream",
     "text": [
      "100%|████████████████████████████████████████████████████████████████████████████| 3840/3840 [00:02<00:00, 1914.21it/s]\n"
     ]
    },
    {
     "name": "stdout",
     "output_type": "stream",
     "text": [
      "C:\\Users\\kv248\\OneDrive - Cornell University\\Data\\Matrix MIP data\\TRENDY\\OCN\\OCN_S2_npp.nc\n"
     ]
    },
    {
     "name": "stderr",
     "output_type": "stream",
     "text": [
      "100%|████████████████████████████████████████████████████████████████████████████| 3840/3840 [00:01<00:00, 1940.87it/s]\n"
     ]
    },
    {
     "name": "stdout",
     "output_type": "stream",
     "text": [
      "C:\\Users\\kv248\\OneDrive - Cornell University\\Data\\Matrix MIP data\\TRENDY\\OCN\\OCN_S1_ra.nc\n"
     ]
    },
    {
     "name": "stderr",
     "output_type": "stream",
     "text": [
      "100%|████████████████████████████████████████████████████████████████████████████| 3840/3840 [00:02<00:00, 1845.12it/s]\n"
     ]
    },
    {
     "name": "stdout",
     "output_type": "stream",
     "text": [
      "C:\\Users\\kv248\\OneDrive - Cornell University\\Data\\Matrix MIP data\\TRENDY\\OCN\\OCN_S1_rh.nc\n"
     ]
    },
    {
     "name": "stderr",
     "output_type": "stream",
     "text": [
      "100%|████████████████████████████████████████████████████████████████████████████| 3840/3840 [00:02<00:00, 1872.99it/s]\n"
     ]
    },
    {
     "name": "stdout",
     "output_type": "stream",
     "text": [
      "\u001b[1mORCHIDEE\n",
      "\u001b[0m\n",
      "computing means, this may take some minutes...\n",
      "('cVeg', 'cLitter', 'cSoil', 'gpp', 'npp', 'ra', 'rh')\n",
      "C:\\Users\\kv248\\OneDrive - Cornell University\\Data\\Matrix MIP data\\TRENDY\\ORCHIDEE\\ORCHIDEE_S2_cVeg.nc\n"
     ]
    },
    {
     "name": "stderr",
     "output_type": "stream",
     "text": [
      "100%|███████████████████████████████████████████████████████████████████████████████| 320/320 [00:00<00:00, 464.06it/s]\n"
     ]
    },
    {
     "name": "stdout",
     "output_type": "stream",
     "text": [
      "C:\\Users\\kv248\\OneDrive - Cornell University\\Data\\Matrix MIP data\\TRENDY\\ORCHIDEE\\ORCHIDEE_S2_cLitter.nc\n"
     ]
    },
    {
     "name": "stderr",
     "output_type": "stream",
     "text": [
      "100%|███████████████████████████████████████████████████████████████████████████████| 320/320 [00:00<00:00, 451.34it/s]\n"
     ]
    },
    {
     "name": "stdout",
     "output_type": "stream",
     "text": [
      "C:\\Users\\kv248\\OneDrive - Cornell University\\Data\\Matrix MIP data\\TRENDY\\ORCHIDEE\\ORCHIDEE_S2_cSoil.nc\n"
     ]
    },
    {
     "name": "stderr",
     "output_type": "stream",
     "text": [
      "100%|███████████████████████████████████████████████████████████████████████████████| 320/320 [00:00<00:00, 509.00it/s]\n"
     ]
    },
    {
     "name": "stdout",
     "output_type": "stream",
     "text": [
      "C:\\Users\\kv248\\OneDrive - Cornell University\\Data\\Matrix MIP data\\TRENDY\\ORCHIDEE\\ORCHIDEE_S2_gpp.nc\n"
     ]
    },
    {
     "name": "stderr",
     "output_type": "stream",
     "text": [
      "100%|█████████████████████████████████████████████████████████████████████████████| 3840/3840 [00:06<00:00, 560.36it/s]\n"
     ]
    },
    {
     "name": "stdout",
     "output_type": "stream",
     "text": [
      "C:\\Users\\kv248\\OneDrive - Cornell University\\Data\\Matrix MIP data\\TRENDY\\ORCHIDEE\\ORCHIDEE_S2_npp.nc\n"
     ]
    },
    {
     "name": "stderr",
     "output_type": "stream",
     "text": [
      "100%|█████████████████████████████████████████████████████████████████████████████| 3840/3840 [00:06<00:00, 551.53it/s]\n"
     ]
    },
    {
     "name": "stdout",
     "output_type": "stream",
     "text": [
      "C:\\Users\\kv248\\OneDrive - Cornell University\\Data\\Matrix MIP data\\TRENDY\\ORCHIDEE\\ORCHIDEE_S2_ra.nc\n"
     ]
    },
    {
     "name": "stderr",
     "output_type": "stream",
     "text": [
      "100%|█████████████████████████████████████████████████████████████████████████████| 3840/3840 [00:07<00:00, 542.19it/s]\n"
     ]
    },
    {
     "name": "stdout",
     "output_type": "stream",
     "text": [
      "C:\\Users\\kv248\\OneDrive - Cornell University\\Data\\Matrix MIP data\\TRENDY\\ORCHIDEE\\ORCHIDEE_S2_rh.nc\n"
     ]
    },
    {
     "name": "stderr",
     "output_type": "stream",
     "text": [
      "100%|█████████████████████████████████████████████████████████████████████████████| 3840/3840 [00:07<00:00, 543.06it/s]\n"
     ]
    },
    {
     "name": "stdout",
     "output_type": "stream",
     "text": [
      "\u001b[1mORCHIDEE-CNP\n",
      "\u001b[0m\n",
      "computing means, this may take some minutes...\n",
      "('cVeg', 'cLitter', 'cSoil', 'gpp', 'npp', 'ra', 'rh')\n",
      "C:\\Users\\kv248\\OneDrive - Cornell University\\Data\\Matrix MIP data\\TRENDY\\ORCHIDEE-CNP\\ORCHIDEE-CNP_S2_cVeg.nc\n"
     ]
    },
    {
     "name": "stderr",
     "output_type": "stream",
     "text": [
      "100%|██████████████████████████████████████████████████████████████████████████████| 319/319 [00:00<00:00, 5104.51it/s]\n"
     ]
    },
    {
     "name": "stdout",
     "output_type": "stream",
     "text": [
      "C:\\Users\\kv248\\OneDrive - Cornell University\\Data\\Matrix MIP data\\TRENDY\\ORCHIDEE-CNP\\ORCHIDEE-CNP_S2_cLitter.nc\n"
     ]
    },
    {
     "name": "stderr",
     "output_type": "stream",
     "text": [
      "100%|██████████████████████████████████████████████████████████████████████████████| 319/319 [00:00<00:00, 4492.15it/s]\n"
     ]
    },
    {
     "name": "stdout",
     "output_type": "stream",
     "text": [
      "C:\\Users\\kv248\\OneDrive - Cornell University\\Data\\Matrix MIP data\\TRENDY\\ORCHIDEE-CNP\\ORCHIDEE-CNP_S2_cSoil.nc\n"
     ]
    },
    {
     "name": "stderr",
     "output_type": "stream",
     "text": [
      "100%|██████████████████████████████████████████████████████████████████████████████| 319/319 [00:00<00:00, 6798.24it/s]\n"
     ]
    },
    {
     "name": "stdout",
     "output_type": "stream",
     "text": [
      "C:\\Users\\kv248\\OneDrive - Cornell University\\Data\\Matrix MIP data\\TRENDY\\ORCHIDEE-CNP\\ORCHIDEE-CNP_S2_gpp.nc\n"
     ]
    },
    {
     "name": "stderr",
     "output_type": "stream",
     "text": [
      "100%|████████████████████████████████████████████████████████████████████████████| 3828/3828 [00:00<00:00, 5295.78it/s]\n"
     ]
    },
    {
     "name": "stdout",
     "output_type": "stream",
     "text": [
      "C:\\Users\\kv248\\OneDrive - Cornell University\\Data\\Matrix MIP data\\TRENDY\\ORCHIDEE-CNP\\ORCHIDEE-CNP_S2_npp.nc\n"
     ]
    },
    {
     "name": "stderr",
     "output_type": "stream",
     "text": [
      "100%|████████████████████████████████████████████████████████████████████████████| 3828/3828 [00:00<00:00, 5022.69it/s]\n"
     ]
    },
    {
     "name": "stdout",
     "output_type": "stream",
     "text": [
      "C:\\Users\\kv248\\OneDrive - Cornell University\\Data\\Matrix MIP data\\TRENDY\\ORCHIDEE-CNP\\ORCHIDEE-CNP_S2_ra.nc\n"
     ]
    },
    {
     "name": "stderr",
     "output_type": "stream",
     "text": [
      "100%|████████████████████████████████████████████████████████████████████████████| 3828/3828 [00:00<00:00, 5237.77it/s]\n"
     ]
    },
    {
     "name": "stdout",
     "output_type": "stream",
     "text": [
      "C:\\Users\\kv248\\OneDrive - Cornell University\\Data\\Matrix MIP data\\TRENDY\\ORCHIDEE-CNP\\ORCHIDEE-CNP_S2_rh.nc\n"
     ]
    },
    {
     "name": "stderr",
     "output_type": "stream",
     "text": [
      "100%|████████████████████████████████████████████████████████████████████████████| 3828/3828 [00:00<00:00, 5217.73it/s]\n"
     ]
    },
    {
     "name": "stdout",
     "output_type": "stream",
     "text": [
      "\u001b[1mORCHIDEEv3\n",
      "\u001b[0m\n",
      "computing means, this may take some minutes...\n",
      "('cVeg', 'cLitter', 'cSoil', 'gpp', 'npp', 'ra', 'rh')\n",
      "C:\\Users\\kv248\\OneDrive - Cornell University\\Data\\Matrix MIP data\\TRENDY\\ORCHIDEEv3\\ORCHIDEEv3_S2_cVeg.nc\n"
     ]
    },
    {
     "name": "stderr",
     "output_type": "stream",
     "text": [
      "100%|██████████████████████████████████████████████████████████████████████████████| 320/320 [00:00<00:00, 4096.39it/s]\n"
     ]
    },
    {
     "name": "stdout",
     "output_type": "stream",
     "text": [
      "C:\\Users\\kv248\\OneDrive - Cornell University\\Data\\Matrix MIP data\\TRENDY\\ORCHIDEEv3\\ORCHIDEEv3_S2_cLitter.nc\n"
     ]
    },
    {
     "name": "stderr",
     "output_type": "stream",
     "text": [
      "100%|██████████████████████████████████████████████████████████████████████████████| 320/320 [00:00<00:00, 3881.00it/s]\n"
     ]
    },
    {
     "name": "stdout",
     "output_type": "stream",
     "text": [
      "C:\\Users\\kv248\\OneDrive - Cornell University\\Data\\Matrix MIP data\\TRENDY\\ORCHIDEEv3\\ORCHIDEEv3_S2_cSoil.nc\n"
     ]
    },
    {
     "name": "stderr",
     "output_type": "stream",
     "text": [
      "100%|██████████████████████████████████████████████████████████████████████████████| 320/320 [00:00<00:00, 4096.25it/s]\n"
     ]
    },
    {
     "name": "stdout",
     "output_type": "stream",
     "text": [
      "C:\\Users\\kv248\\OneDrive - Cornell University\\Data\\Matrix MIP data\\TRENDY\\ORCHIDEEv3\\ORCHIDEEv3_S2_gpp.nc\n"
     ]
    },
    {
     "name": "stderr",
     "output_type": "stream",
     "text": [
      "100%|████████████████████████████████████████████████████████████████████████████| 3840/3840 [00:00<00:00, 4293.65it/s]\n"
     ]
    },
    {
     "name": "stdout",
     "output_type": "stream",
     "text": [
      "C:\\Users\\kv248\\OneDrive - Cornell University\\Data\\Matrix MIP data\\TRENDY\\ORCHIDEEv3\\ORCHIDEEv3_S2_npp.nc\n"
     ]
    },
    {
     "name": "stderr",
     "output_type": "stream",
     "text": [
      "100%|████████████████████████████████████████████████████████████████████████████| 3840/3840 [00:00<00:00, 4419.06it/s]\n"
     ]
    },
    {
     "name": "stdout",
     "output_type": "stream",
     "text": [
      "C:\\Users\\kv248\\OneDrive - Cornell University\\Data\\Matrix MIP data\\TRENDY\\ORCHIDEEv3\\ORCHIDEEv3_S2_ra.nc\n"
     ]
    },
    {
     "name": "stderr",
     "output_type": "stream",
     "text": [
      "100%|████████████████████████████████████████████████████████████████████████████| 3840/3840 [00:01<00:00, 2679.53it/s]\n"
     ]
    },
    {
     "name": "stdout",
     "output_type": "stream",
     "text": [
      "C:\\Users\\kv248\\OneDrive - Cornell University\\Data\\Matrix MIP data\\TRENDY\\ORCHIDEEv3\\ORCHIDEEv3_S2_rh.nc\n"
     ]
    },
    {
     "name": "stderr",
     "output_type": "stream",
     "text": [
      "100%|████████████████████████████████████████████████████████████████████████████| 3840/3840 [00:01<00:00, 2709.72it/s]\n"
     ]
    },
    {
     "name": "stdout",
     "output_type": "stream",
     "text": [
      "\u001b[1mAneesh_SDGVM\n",
      "\u001b[0m\n",
      "computing means, this may take some minutes...\n",
      "('cVeg', 'cLitter', 'cSoil', 'gpp', 'npp', 'ra', 'rh')\n",
      "C:\\Users\\kv248\\OneDrive - Cornell University\\Data\\Matrix MIP data\\TRENDY\\SDGVM\\SDGVM_S2_cVeg.nc\n"
     ]
    },
    {
     "name": "stderr",
     "output_type": "stream",
     "text": [
      "100%|██████████████████████████████████████████████████████████████████████████████| 320/320 [00:00<00:00, 2048.22it/s]\n"
     ]
    },
    {
     "name": "stdout",
     "output_type": "stream",
     "text": [
      "C:\\Users\\kv248\\OneDrive - Cornell University\\Data\\Matrix MIP data\\TRENDY\\SDGVM\\SDGVM_S2_cLitter.nc\n"
     ]
    },
    {
     "name": "stderr",
     "output_type": "stream",
     "text": [
      "100%|██████████████████████████████████████████████████████████████████████████████| 320/320 [00:00<00:00, 1862.01it/s]\n"
     ]
    },
    {
     "name": "stdout",
     "output_type": "stream",
     "text": [
      "C:\\Users\\kv248\\OneDrive - Cornell University\\Data\\Matrix MIP data\\TRENDY\\SDGVM\\SDGVM_S2_cSoil.nc\n"
     ]
    },
    {
     "name": "stderr",
     "output_type": "stream",
     "text": [
      "100%|██████████████████████████████████████████████████████████████████████████████| 320/320 [00:00<00:00, 1987.07it/s]\n"
     ]
    },
    {
     "name": "stdout",
     "output_type": "stream",
     "text": [
      "C:\\Users\\kv248\\OneDrive - Cornell University\\Data\\Matrix MIP data\\TRENDY\\SDGVM\\SDGVM_S2_gpp.nc\n"
     ]
    },
    {
     "name": "stderr",
     "output_type": "stream",
     "text": [
      "100%|████████████████████████████████████████████████████████████████████████████| 1440/1440 [00:00<00:00, 2015.00it/s]\n"
     ]
    },
    {
     "name": "stdout",
     "output_type": "stream",
     "text": [
      "C:\\Users\\kv248\\OneDrive - Cornell University\\Data\\Matrix MIP data\\TRENDY\\SDGVM\\SDGVM_S2_npp.nc\n"
     ]
    },
    {
     "name": "stderr",
     "output_type": "stream",
     "text": [
      "100%|████████████████████████████████████████████████████████████████████████████| 1440/1440 [00:00<00:00, 1975.45it/s]\n"
     ]
    },
    {
     "name": "stdout",
     "output_type": "stream",
     "text": [
      "C:\\Users\\kv248\\OneDrive - Cornell University\\Data\\Matrix MIP data\\TRENDY\\SDGVM\\SDGVM_S2_ra.nc\n"
     ]
    },
    {
     "name": "stderr",
     "output_type": "stream",
     "text": [
      "100%|████████████████████████████████████████████████████████████████████████████| 1440/1440 [00:00<00:00, 2078.26it/s]\n"
     ]
    },
    {
     "name": "stdout",
     "output_type": "stream",
     "text": [
      "C:\\Users\\kv248\\OneDrive - Cornell University\\Data\\Matrix MIP data\\TRENDY\\SDGVM\\SDGVM_S2_rh.nc\n"
     ]
    },
    {
     "name": "stderr",
     "output_type": "stream",
     "text": [
      "100%|████████████████████████████████████████████████████████████████████████████| 1440/1440 [00:00<00:00, 1983.25it/s]\n"
     ]
    },
    {
     "name": "stdout",
     "output_type": "stream",
     "text": [
      "\u001b[1mkv_visit2\n",
      "\u001b[0m\n",
      "computing means, this may take some minutes...\n",
      "('cVeg', 'cLitter', 'cSoil', 'gpp', 'ra', 'rh')\n",
      "C:\\Users\\kv248\\OneDrive - Cornell University\\Data\\Matrix MIP data\\TRENDY\\VISIT\\VISIT_S2_cVeg.nc\n"
     ]
    },
    {
     "name": "stderr",
     "output_type": "stream",
     "text": [
      "100%|█████████████████████████████████████████████████████████████████████████████| 1920/1920 [00:04<00:00, 429.98it/s]\n"
     ]
    },
    {
     "name": "stdout",
     "output_type": "stream",
     "text": [
      "C:\\Users\\kv248\\OneDrive - Cornell University\\Data\\Matrix MIP data\\TRENDY\\VISIT\\VISIT_S2_cLitter.nc\n"
     ]
    },
    {
     "name": "stderr",
     "output_type": "stream",
     "text": [
      "100%|█████████████████████████████████████████████████████████████████████████████| 1920/1920 [00:04<00:00, 418.66it/s]\n"
     ]
    },
    {
     "name": "stdout",
     "output_type": "stream",
     "text": [
      "C:\\Users\\kv248\\OneDrive - Cornell University\\Data\\Matrix MIP data\\TRENDY\\VISIT\\VISIT_S2_cSoil.nc\n"
     ]
    },
    {
     "name": "stderr",
     "output_type": "stream",
     "text": [
      "100%|█████████████████████████████████████████████████████████████████████████████| 1920/1920 [00:04<00:00, 425.89it/s]\n"
     ]
    },
    {
     "name": "stdout",
     "output_type": "stream",
     "text": [
      "C:\\Users\\kv248\\OneDrive - Cornell University\\Data\\Matrix MIP data\\TRENDY\\VISIT\\VISIT_S2_gpp.nc\n"
     ]
    },
    {
     "name": "stderr",
     "output_type": "stream",
     "text": [
      "100%|█████████████████████████████████████████████████████████████████████████████| 1920/1920 [00:04<00:00, 418.84it/s]\n"
     ]
    },
    {
     "name": "stdout",
     "output_type": "stream",
     "text": [
      "C:\\Users\\kv248\\OneDrive - Cornell University\\Data\\Matrix MIP data\\TRENDY\\VISIT\\VISIT_S2_ra.nc\n"
     ]
    },
    {
     "name": "stderr",
     "output_type": "stream",
     "text": [
      "100%|█████████████████████████████████████████████████████████████████████████████| 1920/1920 [00:04<00:00, 432.31it/s]\n"
     ]
    },
    {
     "name": "stdout",
     "output_type": "stream",
     "text": [
      "C:\\Users\\kv248\\OneDrive - Cornell University\\Data\\Matrix MIP data\\TRENDY\\VISIT\\VISIT_S2_rh.nc\n"
     ]
    },
    {
     "name": "stderr",
     "output_type": "stream",
     "text": [
      "100%|█████████████████████████████████████████████████████████████████████████████| 1920/1920 [00:04<00:00, 429.74it/s]\n"
     ]
    },
    {
     "name": "stdout",
     "output_type": "stream",
     "text": [
      "\u001b[1mjon_yib\n",
      "\u001b[0m\n",
      "computing means, this may take some minutes...\n",
      "('cVeg', 'cSoil', 'gpp', 'npp', 'ra', 'rh')\n",
      "C:\\Users\\kv248\\OneDrive - Cornell University\\Data\\Matrix MIP data\\TRENDY\\YIBs\\YIBs_S2_Annual_cVeg.nc\n"
     ]
    },
    {
     "name": "stderr",
     "output_type": "stream",
     "text": [
      "100%|██████████████████████████████████████████████████████████████████████████████| 320/320 [00:00<00:00, 1824.64it/s]\n"
     ]
    },
    {
     "name": "stdout",
     "output_type": "stream",
     "text": [
      "C:\\Users\\kv248\\OneDrive - Cornell University\\Data\\Matrix MIP data\\TRENDY\\YIBs\\YIBs_S2_Annual_cSoil.nc\n"
     ]
    },
    {
     "name": "stderr",
     "output_type": "stream",
     "text": [
      "100%|██████████████████████████████████████████████████████████████████████████████| 320/320 [00:00<00:00, 1532.21it/s]\n"
     ]
    },
    {
     "name": "stdout",
     "output_type": "stream",
     "text": [
      "C:\\Users\\kv248\\OneDrive - Cornell University\\Data\\Matrix MIP data\\TRENDY\\YIBs\\YIBs_S2_Monthly_gpp.nc\n"
     ]
    },
    {
     "name": "stderr",
     "output_type": "stream",
     "text": [
      "100%|████████████████████████████████████████████████████████████████████████████| 3840/3840 [00:02<00:00, 1896.98it/s]\n"
     ]
    },
    {
     "name": "stdout",
     "output_type": "stream",
     "text": [
      "C:\\Users\\kv248\\OneDrive - Cornell University\\Data\\Matrix MIP data\\TRENDY\\YIBs\\YIBs_S2_Monthly_npp.nc\n"
     ]
    },
    {
     "name": "stderr",
     "output_type": "stream",
     "text": [
      "100%|████████████████████████████████████████████████████████████████████████████| 3840/3840 [00:01<00:00, 1974.70it/s]\n"
     ]
    },
    {
     "name": "stdout",
     "output_type": "stream",
     "text": [
      "C:\\Users\\kv248\\OneDrive - Cornell University\\Data\\Matrix MIP data\\TRENDY\\YIBs\\YIBs_S2_Monthly_ra.nc\n"
     ]
    },
    {
     "name": "stderr",
     "output_type": "stream",
     "text": [
      "100%|████████████████████████████████████████████████████████████████████████████| 3840/3840 [00:01<00:00, 1942.19it/s]\n"
     ]
    },
    {
     "name": "stdout",
     "output_type": "stream",
     "text": [
      "C:\\Users\\kv248\\OneDrive - Cornell University\\Data\\Matrix MIP data\\TRENDY\\YIBs\\YIBs_S2_Monthly_rh.nc\n"
     ]
    },
    {
     "name": "stderr",
     "output_type": "stream",
     "text": [
      "100%|████████████████████████████████████████████████████████████████████████████| 3840/3840 [00:02<00:00, 1909.74it/s]\n"
     ]
    },
    {
     "name": "stdout",
     "output_type": "stream",
     "text": [
      "Done!\n",
      "\u001b[1mab_classic\n",
      "\u001b[0m\n",
      "computing means, this may take some minutes...\n",
      "('cVeg', 'cLitter', 'cSoil', 'gpp', 'npp', 'ra', 'rh')\n",
      "C:\\Users\\kv248\\OneDrive - Cornell University\\Data\\Matrix MIP data\\TRENDY\\CLASSIC\\CLASSIC_S3_cVeg.nc\n"
     ]
    },
    {
     "name": "stderr",
     "output_type": "stream",
     "text": [
      "100%|██████████████████████████████████████████████████████████████████████████████| 319/319 [00:00<00:00, 4087.29it/s]"
     ]
    },
    {
     "name": "stdout",
     "output_type": "stream",
     "text": [
      "C:\\Users\\kv248\\OneDrive - Cornell University\\Data\\Matrix MIP data\\TRENDY\\CLASSIC\\CLASSIC_S3_cLitter.nc\n"
     ]
    },
    {
     "name": "stderr",
     "output_type": "stream",
     "text": [
      "\n",
      "100%|██████████████████████████████████████████████████████████████████████████████| 319/319 [00:00<00:00, 4083.81it/s]\n"
     ]
    },
    {
     "name": "stdout",
     "output_type": "stream",
     "text": [
      "C:\\Users\\kv248\\OneDrive - Cornell University\\Data\\Matrix MIP data\\TRENDY\\CLASSIC\\CLASSIC_S3_cSoil.nc\n"
     ]
    },
    {
     "name": "stderr",
     "output_type": "stream",
     "text": [
      "100%|██████████████████████████████████████████████████████████████████████████████| 319/319 [00:00<00:00, 4765.86it/s]\n"
     ]
    },
    {
     "name": "stdout",
     "output_type": "stream",
     "text": [
      "C:\\Users\\kv248\\OneDrive - Cornell University\\Data\\Matrix MIP data\\TRENDY\\CLASSIC\\CLASSIC_S3_gpp.nc\n"
     ]
    },
    {
     "name": "stderr",
     "output_type": "stream",
     "text": [
      "100%|████████████████████████████████████████████████████████████████████████████| 3828/3828 [00:00<00:00, 5243.48it/s]\n"
     ]
    },
    {
     "name": "stdout",
     "output_type": "stream",
     "text": [
      "C:\\Users\\kv248\\OneDrive - Cornell University\\Data\\Matrix MIP data\\TRENDY\\CLASSIC\\CLASSIC_S3_npp.nc\n"
     ]
    },
    {
     "name": "stderr",
     "output_type": "stream",
     "text": [
      "100%|████████████████████████████████████████████████████████████████████████████| 3828/3828 [00:00<00:00, 5058.56it/s]\n"
     ]
    },
    {
     "name": "stdout",
     "output_type": "stream",
     "text": [
      "C:\\Users\\kv248\\OneDrive - Cornell University\\Data\\Matrix MIP data\\TRENDY\\CLASSIC\\CLASSIC_S3_ra.nc\n"
     ]
    },
    {
     "name": "stderr",
     "output_type": "stream",
     "text": [
      "100%|████████████████████████████████████████████████████████████████████████████| 3828/3828 [00:00<00:00, 5414.46it/s]\n"
     ]
    },
    {
     "name": "stdout",
     "output_type": "stream",
     "text": [
      "C:\\Users\\kv248\\OneDrive - Cornell University\\Data\\Matrix MIP data\\TRENDY\\CLASSIC\\CLASSIC_S3_rh.nc\n"
     ]
    },
    {
     "name": "stderr",
     "output_type": "stream",
     "text": [
      "100%|████████████████████████████████████████████████████████████████████████████| 3828/3828 [00:00<00:00, 5291.99it/s]\n"
     ]
    },
    {
     "name": "stdout",
     "output_type": "stream",
     "text": [
      "\u001b[1mclm5\n",
      "\u001b[0m\n",
      "computing means, this may take some minutes...\n",
      "('cVeg', 'cLitter', 'cSoil', 'gpp', 'npp', 'ra', 'rh')\n",
      "C:\\Users\\kv248\\OneDrive - Cornell University\\Data\\Matrix MIP data\\TRENDY\\CLM5\\CLM5.0_S3_cVeg.nc\n"
     ]
    },
    {
     "name": "stderr",
     "output_type": "stream",
     "text": [
      "100%|██████████████████████████████████████████████████████████████████████████████| 320/320 [00:00<00:00, 2560.26it/s]\n"
     ]
    },
    {
     "name": "stdout",
     "output_type": "stream",
     "text": [
      "C:\\Users\\kv248\\OneDrive - Cornell University\\Data\\Matrix MIP data\\TRENDY\\CLM5\\CLM5.0_S3_cLitter.nc\n"
     ]
    },
    {
     "name": "stderr",
     "output_type": "stream",
     "text": [
      "100%|██████████████████████████████████████████████████████████████████████████████| 320/320 [00:00<00:00, 2275.79it/s]\n"
     ]
    },
    {
     "name": "stdout",
     "output_type": "stream",
     "text": [
      "C:\\Users\\kv248\\OneDrive - Cornell University\\Data\\Matrix MIP data\\TRENDY\\CLM5\\CLM5.0_S3_cSoil.nc\n"
     ]
    },
    {
     "name": "stderr",
     "output_type": "stream",
     "text": [
      "100%|██████████████████████████████████████████████████████████████████████████████| 320/320 [00:00<00:00, 2209.45it/s]\n"
     ]
    },
    {
     "name": "stdout",
     "output_type": "stream",
     "text": [
      "C:\\Users\\kv248\\OneDrive - Cornell University\\Data\\Matrix MIP data\\TRENDY\\CLM5\\CLM5.0_S3_gpp.nc\n"
     ]
    },
    {
     "name": "stderr",
     "output_type": "stream",
     "text": [
      "100%|████████████████████████████████████████████████████████████████████████████| 3840/3840 [00:01<00:00, 2244.28it/s]\n"
     ]
    },
    {
     "name": "stdout",
     "output_type": "stream",
     "text": [
      "C:\\Users\\kv248\\OneDrive - Cornell University\\Data\\Matrix MIP data\\TRENDY\\CLM5\\CLM5.0_S3_npp.nc\n"
     ]
    },
    {
     "name": "stderr",
     "output_type": "stream",
     "text": [
      "100%|████████████████████████████████████████████████████████████████████████████| 3840/3840 [00:01<00:00, 2292.48it/s]\n"
     ]
    },
    {
     "name": "stdout",
     "output_type": "stream",
     "text": [
      "C:\\Users\\kv248\\OneDrive - Cornell University\\Data\\Matrix MIP data\\TRENDY\\CLM5\\CLM5.0_S3_ra.nc\n"
     ]
    },
    {
     "name": "stderr",
     "output_type": "stream",
     "text": [
      "100%|████████████████████████████████████████████████████████████████████████████| 3840/3840 [00:01<00:00, 2316.80it/s]\n"
     ]
    },
    {
     "name": "stdout",
     "output_type": "stream",
     "text": [
      "C:\\Users\\kv248\\OneDrive - Cornell University\\Data\\Matrix MIP data\\TRENDY\\CLM5\\CLM5.0_S3_rh.nc\n"
     ]
    },
    {
     "name": "stderr",
     "output_type": "stream",
     "text": [
      "100%|████████████████████████████████████████████████████████████████████████████| 3840/3840 [00:01<00:00, 2301.52it/s]\n"
     ]
    },
    {
     "name": "stdout",
     "output_type": "stream",
     "text": [
      "\u001b[1mkv_ft_dlem\n",
      "\u001b[0m\n",
      "computing means, this may take some minutes...\n",
      "('cVeg', 'cLitter', 'cSoil', 'gpp', 'npp', 'ra', 'rh')\n",
      "C:\\Users\\kv248\\OneDrive - Cornell University\\Data\\Matrix MIP data\\TRENDY\\DLEM\\DLEM_S3_cVeg.nc\n"
     ]
    },
    {
     "name": "stderr",
     "output_type": "stream",
     "text": [
      "100%|████████████████████████████████████████████████████████████████████████████████| 320/320 [00:29<00:00, 10.70it/s]\n"
     ]
    },
    {
     "name": "stdout",
     "output_type": "stream",
     "text": [
      "C:\\Users\\kv248\\OneDrive - Cornell University\\Data\\Matrix MIP data\\TRENDY\\DLEM\\DLEM_S3_cLitter.nc\n"
     ]
    },
    {
     "name": "stderr",
     "output_type": "stream",
     "text": [
      "100%|████████████████████████████████████████████████████████████████████████████████| 320/320 [00:30<00:00, 10.65it/s]\n"
     ]
    },
    {
     "name": "stdout",
     "output_type": "stream",
     "text": [
      "C:\\Users\\kv248\\OneDrive - Cornell University\\Data\\Matrix MIP data\\TRENDY\\DLEM\\DLEM_S3_cSoil.nc\n"
     ]
    },
    {
     "name": "stderr",
     "output_type": "stream",
     "text": [
      "100%|████████████████████████████████████████████████████████████████████████████████| 320/320 [00:29<00:00, 10.81it/s]\n"
     ]
    },
    {
     "name": "stdout",
     "output_type": "stream",
     "text": [
      "C:\\Users\\kv248\\OneDrive - Cornell University\\Data\\Matrix MIP data\\TRENDY\\DLEM\\DLEM_S3_gpp.nc\n"
     ]
    },
    {
     "name": "stderr",
     "output_type": "stream",
     "text": [
      "100%|█████████████████████████████████████████████████████████████████████████████| 3840/3840 [00:07<00:00, 489.10it/s]\n"
     ]
    },
    {
     "name": "stdout",
     "output_type": "stream",
     "text": [
      "C:\\Users\\kv248\\OneDrive - Cornell University\\Data\\Matrix MIP data\\TRENDY\\DLEM\\DLEM_S3_npp.nc\n"
     ]
    },
    {
     "name": "stderr",
     "output_type": "stream",
     "text": [
      "100%|█████████████████████████████████████████████████████████████████████████████| 3840/3840 [00:07<00:00, 496.03it/s]\n"
     ]
    },
    {
     "name": "stdout",
     "output_type": "stream",
     "text": [
      "C:\\Users\\kv248\\OneDrive - Cornell University\\Data\\Matrix MIP data\\TRENDY\\DLEM\\DLEM_S3_ra.nc\n"
     ]
    },
    {
     "name": "stderr",
     "output_type": "stream",
     "text": [
      "100%|█████████████████████████████████████████████████████████████████████████████| 3840/3840 [00:07<00:00, 496.68it/s]\n"
     ]
    },
    {
     "name": "stdout",
     "output_type": "stream",
     "text": [
      "C:\\Users\\kv248\\OneDrive - Cornell University\\Data\\Matrix MIP data\\TRENDY\\DLEM\\DLEM_S3_rh.nc\n"
     ]
    },
    {
     "name": "stderr",
     "output_type": "stream",
     "text": [
      "100%|█████████████████████████████████████████████████████████████████████████████| 3840/3840 [00:07<00:00, 499.30it/s]\n"
     ]
    },
    {
     "name": "stdout",
     "output_type": "stream",
     "text": [
      "\u001b[1mbian_ibis2\n",
      "\u001b[0m\n",
      "computing means, this may take some minutes...\n",
      "('cVeg', 'cLitter', 'cSoil', 'gpp', 'npp', 'ra', 'rh')\n",
      "C:\\Users\\kv248\\OneDrive - Cornell University\\Data\\Matrix MIP data\\TRENDY\\IBIS\\IBIS_S3_cVeg.nc\n"
     ]
    },
    {
     "name": "stderr",
     "output_type": "stream",
     "text": [
      "100%|██████████████████████████████████████████████████████████████████████████████| 320/320 [00:00<00:00, 2561.43it/s]\n"
     ]
    },
    {
     "name": "stdout",
     "output_type": "stream",
     "text": [
      "C:\\Users\\kv248\\OneDrive - Cornell University\\Data\\Matrix MIP data\\TRENDY\\IBIS\\IBIS_S3_cLitter.nc\n"
     ]
    },
    {
     "name": "stderr",
     "output_type": "stream",
     "text": [
      "100%|██████████████████████████████████████████████████████████████████████████████| 320/320 [00:00<00:00, 2275.74it/s]\n"
     ]
    },
    {
     "name": "stdout",
     "output_type": "stream",
     "text": [
      "C:\\Users\\kv248\\OneDrive - Cornell University\\Data\\Matrix MIP data\\TRENDY\\IBIS\\IBIS_S3_cSoil.nc\n"
     ]
    },
    {
     "name": "stderr",
     "output_type": "stream",
     "text": [
      "100%|██████████████████████████████████████████████████████████████████████████████| 320/320 [00:00<00:00, 3043.40it/s]\n"
     ]
    },
    {
     "name": "stdout",
     "output_type": "stream",
     "text": [
      "C:\\Users\\kv248\\OneDrive - Cornell University\\Data\\Matrix MIP data\\TRENDY\\IBIS\\IBIS_S3_gpp.nc\n"
     ]
    },
    {
     "name": "stderr",
     "output_type": "stream",
     "text": [
      "100%|████████████████████████████████████████████████████████████████████████████| 3840/3840 [00:01<00:00, 2763.77it/s]\n"
     ]
    },
    {
     "name": "stdout",
     "output_type": "stream",
     "text": [
      "C:\\Users\\kv248\\OneDrive - Cornell University\\Data\\Matrix MIP data\\TRENDY\\IBIS\\IBIS_S3_npp.nc\n"
     ]
    },
    {
     "name": "stderr",
     "output_type": "stream",
     "text": [
      "100%|████████████████████████████████████████████████████████████████████████████| 3840/3840 [00:01<00:00, 2718.92it/s]\n"
     ]
    },
    {
     "name": "stdout",
     "output_type": "stream",
     "text": [
      "C:\\Users\\kv248\\OneDrive - Cornell University\\Data\\Matrix MIP data\\TRENDY\\IBIS\\IBIS_S3_ra.nc\n"
     ]
    },
    {
     "name": "stderr",
     "output_type": "stream",
     "text": [
      "100%|████████████████████████████████████████████████████████████████████████████| 3840/3840 [00:01<00:00, 2742.32it/s]\n"
     ]
    },
    {
     "name": "stdout",
     "output_type": "stream",
     "text": [
      "C:\\Users\\kv248\\OneDrive - Cornell University\\Data\\Matrix MIP data\\TRENDY\\IBIS\\IBIS_S3_rh.nc\n"
     ]
    },
    {
     "name": "stderr",
     "output_type": "stream",
     "text": [
      "100%|████████████████████████████████████████████████████████████████████████████| 3840/3840 [00:01<00:00, 2734.67it/s]\n"
     ]
    },
    {
     "name": "stdout",
     "output_type": "stream",
     "text": [
      "\u001b[1mcj_isam\n",
      "\u001b[0m\n",
      "computing means, this may take some minutes...\n",
      "('cVeg', 'cLitter', 'cSoil', 'gpp', 'npp', 'ra', 'rh')\n",
      "C:\\Users\\kv248\\OneDrive - Cornell University\\Data\\Matrix MIP data\\TRENDY\\ISAM\\ISAM_S3_cVeg.nc\n"
     ]
    },
    {
     "name": "stderr",
     "output_type": "stream",
     "text": [
      "100%|████████████████████████████████████████████████████████████████████████████████| 320/320 [00:47<00:00,  6.74it/s]\n"
     ]
    },
    {
     "name": "stdout",
     "output_type": "stream",
     "text": [
      "C:\\Users\\kv248\\OneDrive - Cornell University\\Data\\Matrix MIP data\\TRENDY\\ISAM\\ISAM_S3_cLitter.nc\n"
     ]
    },
    {
     "name": "stderr",
     "output_type": "stream",
     "text": [
      "100%|████████████████████████████████████████████████████████████████████████████████| 320/320 [00:40<00:00,  7.84it/s]\n"
     ]
    },
    {
     "name": "stdout",
     "output_type": "stream",
     "text": [
      "C:\\Users\\kv248\\OneDrive - Cornell University\\Data\\Matrix MIP data\\TRENDY\\ISAM\\ISAM_S3_cSoil.nc\n"
     ]
    },
    {
     "name": "stderr",
     "output_type": "stream",
     "text": [
      "100%|████████████████████████████████████████████████████████████████████████████████| 320/320 [00:41<00:00,  7.75it/s]\n"
     ]
    },
    {
     "name": "stdout",
     "output_type": "stream",
     "text": [
      "C:\\Users\\kv248\\OneDrive - Cornell University\\Data\\Matrix MIP data\\TRENDY\\ISAM\\ISAM_S3_gpp.nc\n"
     ]
    },
    {
     "name": "stderr",
     "output_type": "stream",
     "text": [
      "100%|█████████████████████████████████████████████████████████████████████████████| 3840/3840 [00:18<00:00, 204.13it/s]\n"
     ]
    },
    {
     "name": "stdout",
     "output_type": "stream",
     "text": [
      "C:\\Users\\kv248\\OneDrive - Cornell University\\Data\\Matrix MIP data\\TRENDY\\ISAM\\ISAM_S3_npp.nc\n"
     ]
    },
    {
     "name": "stderr",
     "output_type": "stream",
     "text": [
      "100%|█████████████████████████████████████████████████████████████████████████████| 3840/3840 [00:19<00:00, 198.94it/s]\n"
     ]
    },
    {
     "name": "stdout",
     "output_type": "stream",
     "text": [
      "C:\\Users\\kv248\\OneDrive - Cornell University\\Data\\Matrix MIP data\\TRENDY\\ISAM\\ISAM_S3_ra.nc\n"
     ]
    },
    {
     "name": "stderr",
     "output_type": "stream",
     "text": [
      "100%|█████████████████████████████████████████████████████████████████████████████| 3840/3840 [00:19<00:00, 199.06it/s]\n"
     ]
    },
    {
     "name": "stdout",
     "output_type": "stream",
     "text": [
      "C:\\Users\\kv248\\OneDrive - Cornell University\\Data\\Matrix MIP data\\TRENDY\\ISAM\\ISAM_S3_rh.nc\n"
     ]
    },
    {
     "name": "stderr",
     "output_type": "stream",
     "text": [
      "100%|█████████████████████████████████████████████████████████████████████████████| 3840/3840 [00:18<00:00, 208.65it/s]\n"
     ]
    },
    {
     "name": "stdout",
     "output_type": "stream",
     "text": [
      "\u001b[1misba-ctrip\n",
      "\u001b[0m\n",
      "computing means, this may take some minutes...\n",
      "('cVeg', 'cLitter', 'cSoil', 'gpp', 'npp', 'ra', 'rh')\n",
      "C:\\Users\\kv248\\OneDrive - Cornell University\\Data\\Matrix MIP data\\TRENDY\\ISBA_CTRIP\\ISBA-CTRIP_S3_cVeg.nc\n"
     ]
    },
    {
     "name": "stderr",
     "output_type": "stream",
     "text": [
      "100%|████████████████████████████████████████████████████████████████████████████| 3840/3840 [00:01<00:00, 2646.75it/s]\n"
     ]
    },
    {
     "name": "stdout",
     "output_type": "stream",
     "text": [
      "C:\\Users\\kv248\\OneDrive - Cornell University\\Data\\Matrix MIP data\\TRENDY\\ISBA_CTRIP\\ISBA-CTRIP_S3_cLitter.nc\n"
     ]
    },
    {
     "name": "stderr",
     "output_type": "stream",
     "text": [
      "100%|████████████████████████████████████████████████████████████████████████████| 3840/3840 [00:01<00:00, 2674.32it/s]\n"
     ]
    },
    {
     "name": "stdout",
     "output_type": "stream",
     "text": [
      "C:\\Users\\kv248\\OneDrive - Cornell University\\Data\\Matrix MIP data\\TRENDY\\ISBA_CTRIP\\ISBA-CTRIP_S3_cSoil.nc\n"
     ]
    },
    {
     "name": "stderr",
     "output_type": "stream",
     "text": [
      "100%|████████████████████████████████████████████████████████████████████████████| 3840/3840 [00:01<00:00, 2642.50it/s]\n"
     ]
    },
    {
     "name": "stdout",
     "output_type": "stream",
     "text": [
      "C:\\Users\\kv248\\OneDrive - Cornell University\\Data\\Matrix MIP data\\TRENDY\\ISBA_CTRIP\\ISBA-CTRIP_S3_gpp.nc\n"
     ]
    },
    {
     "name": "stderr",
     "output_type": "stream",
     "text": [
      "100%|████████████████████████████████████████████████████████████████████████████| 3840/3840 [00:01<00:00, 2708.02it/s]\n"
     ]
    },
    {
     "name": "stdout",
     "output_type": "stream",
     "text": [
      "C:\\Users\\kv248\\OneDrive - Cornell University\\Data\\Matrix MIP data\\TRENDY\\ISBA_CTRIP\\ISBA-CTRIP_S3_npp.nc\n"
     ]
    },
    {
     "name": "stderr",
     "output_type": "stream",
     "text": [
      "100%|████████████████████████████████████████████████████████████████████████████| 3840/3840 [00:01<00:00, 2639.24it/s]\n"
     ]
    },
    {
     "name": "stdout",
     "output_type": "stream",
     "text": [
      "C:\\Users\\kv248\\OneDrive - Cornell University\\Data\\Matrix MIP data\\TRENDY\\ISBA_CTRIP\\ISBA-CTRIP_S3_ra.nc\n"
     ]
    },
    {
     "name": "stderr",
     "output_type": "stream",
     "text": [
      "100%|████████████████████████████████████████████████████████████████████████████| 3840/3840 [00:01<00:00, 2664.26it/s]\n"
     ]
    },
    {
     "name": "stdout",
     "output_type": "stream",
     "text": [
      "C:\\Users\\kv248\\OneDrive - Cornell University\\Data\\Matrix MIP data\\TRENDY\\ISBA_CTRIP\\ISBA-CTRIP_S3_rh.nc\n"
     ]
    },
    {
     "name": "stderr",
     "output_type": "stream",
     "text": [
      "100%|████████████████████████████████████████████████████████████████████████████| 3840/3840 [00:01<00:00, 2575.72it/s]\n"
     ]
    },
    {
     "name": "stdout",
     "output_type": "stream",
     "text": [
      "\u001b[1mjsbach\n",
      "\u001b[0m\n",
      "computing means, this may take some minutes...\n",
      "('cVeg', 'cLitter', 'cSoil', 'gpp', 'npp', 'ra', 'rh')\n",
      "C:\\Users\\kv248\\OneDrive - Cornell University\\Data\\Matrix MIP data\\TRENDY\\JSBACH\\JSBACH_S3_cVeg.nc\n"
     ]
    },
    {
     "name": "stderr",
     "output_type": "stream",
     "text": [
      "100%|██████████████████████████████████████████████████████████████████████████████| 320/320 [00:00<00:00, 5125.96it/s]\n"
     ]
    },
    {
     "name": "stdout",
     "output_type": "stream",
     "text": [
      "C:\\Users\\kv248\\OneDrive - Cornell University\\Data\\Matrix MIP data\\TRENDY\\JSBACH\\JSBACH_S3_cLitter.nc\n"
     ]
    },
    {
     "name": "stderr",
     "output_type": "stream",
     "text": [
      "100%|██████████████████████████████████████████████████████████████████████████████| 320/320 [00:00<00:00, 5120.47it/s]"
     ]
    },
    {
     "name": "stdout",
     "output_type": "stream",
     "text": [
      "C:\\Users\\kv248\\OneDrive - Cornell University\\Data\\Matrix MIP data\\TRENDY\\JSBACH\\JSBACH_S3_cSoil.nc\n"
     ]
    },
    {
     "name": "stderr",
     "output_type": "stream",
     "text": [
      "\n",
      "100%|██████████████████████████████████████████████████████████████████████████████| 320/320 [00:00<00:00, 4820.33it/s]\n"
     ]
    },
    {
     "name": "stdout",
     "output_type": "stream",
     "text": [
      "C:\\Users\\kv248\\OneDrive - Cornell University\\Data\\Matrix MIP data\\TRENDY\\JSBACH\\JSBACH_S3_gpp.nc\n"
     ]
    },
    {
     "name": "stderr",
     "output_type": "stream",
     "text": [
      "100%|████████████████████████████████████████████████████████████████████████████| 3840/3840 [00:00<00:00, 4405.30it/s]\n"
     ]
    },
    {
     "name": "stdout",
     "output_type": "stream",
     "text": [
      "C:\\Users\\kv248\\OneDrive - Cornell University\\Data\\Matrix MIP data\\TRENDY\\JSBACH\\JSBACH_S3_npp.nc\n"
     ]
    },
    {
     "name": "stderr",
     "output_type": "stream",
     "text": [
      "100%|████████████████████████████████████████████████████████████████████████████| 3840/3840 [00:00<00:00, 4345.67it/s]\n"
     ]
    },
    {
     "name": "stdout",
     "output_type": "stream",
     "text": [
      "C:\\Users\\kv248\\OneDrive - Cornell University\\Data\\Matrix MIP data\\TRENDY\\JSBACH\\JSBACH_S3_ra.nc\n"
     ]
    },
    {
     "name": "stderr",
     "output_type": "stream",
     "text": [
      "100%|████████████████████████████████████████████████████████████████████████████| 3840/3840 [00:00<00:00, 4159.50it/s]\n"
     ]
    },
    {
     "name": "stdout",
     "output_type": "stream",
     "text": [
      "C:\\Users\\kv248\\OneDrive - Cornell University\\Data\\Matrix MIP data\\TRENDY\\JSBACH\\JSBACH_S3_rh.nc\n"
     ]
    },
    {
     "name": "stderr",
     "output_type": "stream",
     "text": [
      "100%|████████████████████████████████████████████████████████████████████████████| 3840/3840 [00:00<00:00, 4440.48it/s]\n"
     ]
    },
    {
     "name": "stdout",
     "output_type": "stream",
     "text": [
      "\u001b[1myz_jules\n",
      "\u001b[0m\n",
      "computing means, this may take some minutes...\n",
      "('cVeg', 'cSoil', 'gpp', 'npp_nlim', 'rh')\n",
      "C:\\Users\\kv248\\OneDrive - Cornell University\\Data\\Matrix MIP data\\TRENDY\\JULES-ES-1.0\\JULES-ES-1p0_S3_cVeg.nc\n"
     ]
    },
    {
     "name": "stderr",
     "output_type": "stream",
     "text": [
      "100%|██████████████████████████████████████████████████████████████████████████████| 3840/3840 [15:48<00:00,  4.05it/s]\n"
     ]
    },
    {
     "name": "stdout",
     "output_type": "stream",
     "text": [
      "C:\\Users\\kv248\\OneDrive - Cornell University\\Data\\Matrix MIP data\\TRENDY\\JULES-ES-1.0\\JULES-ES-1p0_S3_cSoil.nc\n"
     ]
    },
    {
     "name": "stderr",
     "output_type": "stream",
     "text": [
      "100%|██████████████████████████████████████████████████████████████████████████████| 3840/3840 [15:10<00:00,  4.22it/s]\n"
     ]
    },
    {
     "name": "stdout",
     "output_type": "stream",
     "text": [
      "C:\\Users\\kv248\\OneDrive - Cornell University\\Data\\Matrix MIP data\\TRENDY\\JULES-ES-1.0\\JULES-ES-1p0_S3_gpp.nc\n"
     ]
    },
    {
     "name": "stderr",
     "output_type": "stream",
     "text": [
      "100%|██████████████████████████████████████████████████████████████████████████████| 3840/3840 [17:29<00:00,  3.66it/s]\n"
     ]
    },
    {
     "name": "stdout",
     "output_type": "stream",
     "text": [
      "C:\\Users\\kv248\\OneDrive - Cornell University\\Data\\Matrix MIP data\\TRENDY\\JULES-ES-1.0\\JULES-ES-1p0_S3_npp.nc\n"
     ]
    },
    {
     "name": "stderr",
     "output_type": "stream",
     "text": [
      "100%|██████████████████████████████████████████████████████████████████████████████| 3840/3840 [20:57<00:00,  3.05it/s]\n"
     ]
    },
    {
     "name": "stdout",
     "output_type": "stream",
     "text": [
      "C:\\Users\\kv248\\OneDrive - Cornell University\\Data\\Matrix MIP data\\TRENDY\\JULES-ES-1.0\\JULES-ES-1p0_S3_rh.nc\n"
     ]
    },
    {
     "name": "stderr",
     "output_type": "stream",
     "text": [
      "100%|██████████████████████████████████████████████████████████████████████████████| 3840/3840 [20:00<00:00,  3.20it/s]\n"
     ]
    },
    {
     "name": "stdout",
     "output_type": "stream",
     "text": [
      "\u001b[1mlpj-guess\n",
      "\u001b[0m\n",
      "computing means, this may take some minutes...\n",
      "('cVeg', 'cLitter', 'cSoil', 'gpp', 'npp', 'ra', 'rh')\n",
      "C:\\Users\\kv248\\OneDrive - Cornell University\\Data\\Matrix MIP data\\TRENDY\\LPJ-GUESS\\LPJ-GUESS_S3_cVeg.nc\n"
     ]
    },
    {
     "name": "stderr",
     "output_type": "stream",
     "text": [
      "100%|███████████████████████████████████████████████████████████████████████████████| 320/320 [00:01<00:00, 302.63it/s]\n"
     ]
    },
    {
     "name": "stdout",
     "output_type": "stream",
     "text": [
      "C:\\Users\\kv248\\OneDrive - Cornell University\\Data\\Matrix MIP data\\TRENDY\\LPJ-GUESS\\LPJ-GUESS_S3_cLitter.nc\n"
     ]
    },
    {
     "name": "stderr",
     "output_type": "stream",
     "text": [
      "100%|███████████████████████████████████████████████████████████████████████████████| 320/320 [00:01<00:00, 309.20it/s]\n"
     ]
    },
    {
     "name": "stdout",
     "output_type": "stream",
     "text": [
      "C:\\Users\\kv248\\OneDrive - Cornell University\\Data\\Matrix MIP data\\TRENDY\\LPJ-GUESS\\LPJ-GUESS_S3_cSoil.nc\n"
     ]
    },
    {
     "name": "stderr",
     "output_type": "stream",
     "text": [
      "100%|███████████████████████████████████████████████████████████████████████████████| 320/320 [00:01<00:00, 313.76it/s]\n"
     ]
    },
    {
     "name": "stdout",
     "output_type": "stream",
     "text": [
      "C:\\Users\\kv248\\OneDrive - Cornell University\\Data\\Matrix MIP data\\TRENDY\\LPJ-GUESS\\LPJ-GUESS_S3_gpp.nc\n"
     ]
    },
    {
     "name": "stderr",
     "output_type": "stream",
     "text": [
      "100%|█████████████████████████████████████████████████████████████████████████████| 3840/3840 [00:12<00:00, 303.70it/s]\n"
     ]
    },
    {
     "name": "stdout",
     "output_type": "stream",
     "text": [
      "C:\\Users\\kv248\\OneDrive - Cornell University\\Data\\Matrix MIP data\\TRENDY\\LPJ-GUESS\\LPJ-GUESS_S3_npp.nc\n"
     ]
    },
    {
     "name": "stderr",
     "output_type": "stream",
     "text": [
      "100%|█████████████████████████████████████████████████████████████████████████████| 3840/3840 [00:13<00:00, 278.90it/s]\n"
     ]
    },
    {
     "name": "stdout",
     "output_type": "stream",
     "text": [
      "C:\\Users\\kv248\\OneDrive - Cornell University\\Data\\Matrix MIP data\\TRENDY\\LPJ-GUESS\\LPJ-GUESS_S3_ra.nc\n"
     ]
    },
    {
     "name": "stderr",
     "output_type": "stream",
     "text": [
      "100%|█████████████████████████████████████████████████████████████████████████████| 3840/3840 [00:12<00:00, 304.18it/s]\n"
     ]
    },
    {
     "name": "stdout",
     "output_type": "stream",
     "text": [
      "C:\\Users\\kv248\\OneDrive - Cornell University\\Data\\Matrix MIP data\\TRENDY\\LPJ-GUESS\\LPJ-GUESS_S3_rh_annual.nc\n"
     ]
    },
    {
     "name": "stderr",
     "output_type": "stream",
     "text": [
      "100%|███████████████████████████████████████████████████████████████████████████████| 320/320 [00:01<00:00, 279.02it/s]\n"
     ]
    },
    {
     "name": "stdout",
     "output_type": "stream",
     "text": [
      "\u001b[1mlpjwsl\n",
      "\u001b[0m\n",
      "computing means, this may take some minutes...\n",
      "('cVeg', 'cLitter', 'cSoil', 'gpp', 'npp', 'ra', 'rh')\n",
      "C:\\Users\\kv248\\OneDrive - Cornell University\\Data\\Matrix MIP data\\TRENDY\\LPJwsl\\LPJ_S3_cVeg.nc\n"
     ]
    },
    {
     "name": "stderr",
     "output_type": "stream",
     "text": [
      "100%|███████████████████████████████████████████████████████████████████████████████| 320/320 [00:00<00:00, 422.05it/s]\n"
     ]
    },
    {
     "name": "stdout",
     "output_type": "stream",
     "text": [
      "C:\\Users\\kv248\\OneDrive - Cornell University\\Data\\Matrix MIP data\\TRENDY\\LPJwsl\\LPJ_S3_cLitter.nc\n"
     ]
    },
    {
     "name": "stderr",
     "output_type": "stream",
     "text": [
      "100%|███████████████████████████████████████████████████████████████████████████████| 320/320 [00:00<00:00, 358.36it/s]\n"
     ]
    },
    {
     "name": "stdout",
     "output_type": "stream",
     "text": [
      "C:\\Users\\kv248\\OneDrive - Cornell University\\Data\\Matrix MIP data\\TRENDY\\LPJwsl\\LPJ_S3_cSoil.nc\n"
     ]
    },
    {
     "name": "stderr",
     "output_type": "stream",
     "text": [
      "100%|███████████████████████████████████████████████████████████████████████████████| 320/320 [00:00<00:00, 402.16it/s]\n"
     ]
    },
    {
     "name": "stdout",
     "output_type": "stream",
     "text": [
      "C:\\Users\\kv248\\OneDrive - Cornell University\\Data\\Matrix MIP data\\TRENDY\\LPJwsl\\LPJ_S3_gpp.nc\n"
     ]
    },
    {
     "name": "stderr",
     "output_type": "stream",
     "text": [
      "100%|█████████████████████████████████████████████████████████████████████████████| 3840/3840 [00:09<00:00, 418.64it/s]\n"
     ]
    },
    {
     "name": "stdout",
     "output_type": "stream",
     "text": [
      "C:\\Users\\kv248\\OneDrive - Cornell University\\Data\\Matrix MIP data\\TRENDY\\LPJwsl\\LPJ_S3_npp.nc\n"
     ]
    },
    {
     "name": "stderr",
     "output_type": "stream",
     "text": [
      "100%|█████████████████████████████████████████████████████████████████████████████| 3840/3840 [00:09<00:00, 424.01it/s]\n"
     ]
    },
    {
     "name": "stdout",
     "output_type": "stream",
     "text": [
      "C:\\Users\\kv248\\OneDrive - Cornell University\\Data\\Matrix MIP data\\TRENDY\\LPJwsl\\LPJ_S3_ra.nc\n"
     ]
    },
    {
     "name": "stderr",
     "output_type": "stream",
     "text": [
      "100%|█████████████████████████████████████████████████████████████████████████████| 3840/3840 [00:09<00:00, 420.84it/s]\n"
     ]
    },
    {
     "name": "stdout",
     "output_type": "stream",
     "text": [
      "C:\\Users\\kv248\\OneDrive - Cornell University\\Data\\Matrix MIP data\\TRENDY\\LPJwsl\\LPJ_S3_rh.nc\n"
     ]
    },
    {
     "name": "stderr",
     "output_type": "stream",
     "text": [
      "100%|█████████████████████████████████████████████████████████████████████████████| 3840/3840 [00:09<00:00, 418.82it/s]\n"
     ]
    },
    {
     "name": "stdout",
     "output_type": "stream",
     "text": [
      "\u001b[1mlpx-bern\n",
      "\u001b[0m\n",
      "computing means, this may take some minutes...\n",
      "('cVeg', 'cLitter', 'cSoil', 'gpp', 'npp', 'ra', 'rh')\n",
      "C:\\Users\\kv248\\OneDrive - Cornell University\\Data\\Matrix MIP data\\TRENDY\\LPX-Bern\\LPX-Bern_S3_cVeg.nc\n"
     ]
    },
    {
     "name": "stderr",
     "output_type": "stream",
     "text": [
      "100%|████████████████████████████████████████████████████████████████████████████████| 320/320 [00:39<00:00,  8.02it/s]\n"
     ]
    },
    {
     "name": "stdout",
     "output_type": "stream",
     "text": [
      "C:\\Users\\kv248\\OneDrive - Cornell University\\Data\\Matrix MIP data\\TRENDY\\LPX-Bern\\LPX-Bern_S3_cLitter.nc\n"
     ]
    },
    {
     "name": "stderr",
     "output_type": "stream",
     "text": [
      "100%|████████████████████████████████████████████████████████████████████████████████| 320/320 [00:40<00:00,  7.94it/s]\n"
     ]
    },
    {
     "name": "stdout",
     "output_type": "stream",
     "text": [
      "C:\\Users\\kv248\\OneDrive - Cornell University\\Data\\Matrix MIP data\\TRENDY\\LPX-Bern\\LPX-Bern_S3_cSoil.nc\n"
     ]
    },
    {
     "name": "stderr",
     "output_type": "stream",
     "text": [
      "100%|████████████████████████████████████████████████████████████████████████████████| 320/320 [00:38<00:00,  8.40it/s]\n"
     ]
    },
    {
     "name": "stdout",
     "output_type": "stream",
     "text": [
      "C:\\Users\\kv248\\OneDrive - Cornell University\\Data\\Matrix MIP data\\TRENDY\\LPX-Bern\\LPX-Bern_S3_gpp.nc\n"
     ]
    },
    {
     "name": "stderr",
     "output_type": "stream",
     "text": [
      "100%|██████████████████████████████████████████████████████████████████████████████| 3840/3840 [47:45<00:00,  1.34it/s]\n"
     ]
    },
    {
     "name": "stdout",
     "output_type": "stream",
     "text": [
      "C:\\Users\\kv248\\OneDrive - Cornell University\\Data\\Matrix MIP data\\TRENDY\\LPX-Bern\\LPX-Bern_S3_npp.nc\n"
     ]
    },
    {
     "name": "stderr",
     "output_type": "stream",
     "text": [
      "100%|██████████████████████████████████████████████████████████████████████████████| 3840/3840 [48:45<00:00,  1.31it/s]\n"
     ]
    },
    {
     "name": "stdout",
     "output_type": "stream",
     "text": [
      "C:\\Users\\kv248\\OneDrive - Cornell University\\Data\\Matrix MIP data\\TRENDY\\LPX-Bern\\LPX-Bern_S3_ra.nc\n"
     ]
    },
    {
     "name": "stderr",
     "output_type": "stream",
     "text": [
      " 72%|███████████████████████████████████████████████████████▊                      | 2749/3840 [34:57<15:14,  1.19it/s]"
     ]
    }
   ],
   "source": [
    "vars_all_list_S2=gh.get_vars_all_list(model_folders, experiment_names_S2)\n",
    "vars_all_list_S3=gh.get_vars_all_list(model_folders, experiment_names_S3)"
   ]
  },
  {
   "cell_type": "code",
   "execution_count": null,
   "id": "f2138b11",
   "metadata": {},
   "outputs": [],
   "source": [
    "np.mean(vars_all_list_S3[2].ra)\n",
    "#vars_all_list_S3[2].ra"
   ]
  },
  {
   "cell_type": "code",
   "execution_count": null,
   "id": "b00a73d0",
   "metadata": {},
   "outputs": [],
   "source": [
    "# define same step size for all models (in days)\n",
    "delta_t_val=30"
   ]
  },
  {
   "cell_type": "code",
   "execution_count": null,
   "id": "36273e0e",
   "metadata": {
    "scrolled": false
   },
   "outputs": [],
   "source": [
    "all_comp_dict_S2=gh.get_components_from_output(model_names=model_names,\n",
    "             vars_all_list=vars_all_list_S2,\n",
    "             delta_t_val=delta_t_val, \n",
    "             #model_cols=model_cols,\n",
    "             part=1,\n",
    "             #averaging=12*30//delta_t_val, # yearly averaging\n",
    "             #averaging=30//delta_t_val, # monthly averaging\n",
    "             #overlap=True\n",
    "             )\n",
    "all_comp_dict_S3=gh.get_components_from_output(model_names=model_names,\n",
    "             vars_all_list=vars_all_list_S3,\n",
    "             delta_t_val=delta_t_val, \n",
    "             #model_cols=model_cols,\n",
    "             part=1,\n",
    "             #averaging=12*30//delta_t_val, # yearly averaging\n",
    "             #averaging=30//delta_t_val, # monthly averaging\n",
    "             #overlap=True\n",
    "             )"
   ]
  },
  {
   "cell_type": "code",
   "execution_count": null,
   "id": "b0f77760",
   "metadata": {
    "scrolled": false
   },
   "outputs": [],
   "source": [
    "all_comp_dict_S2[\"DLEM\"][\"ra\"]"
   ]
  },
  {
   "cell_type": "markdown",
   "id": "38cd665f",
   "metadata": {},
   "source": [
    "### Plots of traceable components and their uncertainty"
   ]
  },
  {
   "cell_type": "code",
   "execution_count": null,
   "id": "4dc35e42",
   "metadata": {},
   "outputs": [],
   "source": [
    "plt.rcParams.update({'font.size': 15})\n",
    "import plotly.express as px\n",
    "cols = px.colors.qualitative.Light24\n",
    "model_cols = {m_names[i]: cols[i] for i in range(len(m_names))}\n",
    "# import seaborn as sns # requires installation of the \"seaborn\" package (not part of bgc_md2)\n",
    "#cols = sns.color_palette(\"tab20\", len(m_names))\n",
    "# cols = sns.color_palette(\"cubehelix\", len(m_names))"
   ]
  },
  {
   "cell_type": "code",
   "execution_count": null,
   "id": "3737f272",
   "metadata": {},
   "outputs": [],
   "source": [
    "x_x_c1,sigma_x_x_c1=gh.plot_traceable_component(\n",
    "    all_comp_dict_S2,\n",
    "    \"x_x_c\",\n",
    "    model_cols,\n",
    "    #delta=True,\n",
    ")\n",
    "x_x_c2,sigma_x_x_c2=gh.plot_traceable_component(\n",
    "    all_comp_dict_S3,\n",
    "    \"x_x_c\",\n",
    "    model_cols,\n",
    "    #delta=True,\n",
    ")"
   ]
  },
  {
   "cell_type": "code",
   "execution_count": null,
   "id": "dcf87854",
   "metadata": {},
   "outputs": [],
   "source": [
    "x1,sigma_x1=gh.plot_traceable_component(\n",
    "    all_comp_dict_S2,\n",
    "    \"x\",\n",
    "    model_cols,\n",
    "    #delta=True,\n",
    ")\n",
    "x2,sigma_x2=gh.plot_traceable_component(\n",
    "    all_comp_dict_S3,\n",
    "    \"x\",\n",
    "    model_cols,\n",
    "    #delta=True,\n",
    ")"
   ]
  },
  {
   "cell_type": "code",
   "execution_count": null,
   "id": "8acfce94",
   "metadata": {},
   "outputs": [],
   "source": [
    "times=all_comp_dict_S2[\"Times\"]\n",
    "var=sigma_x1/x1*100\n",
    "gh.plot_single_trend(var,times,3,\"Standard deviation in % of X over time - S2\")\n",
    "\n",
    "times=all_comp_dict_S3[\"Times\"]\n",
    "var=sigma_x2/x2*100\n",
    "gh.plot_single_trend(var,times,3, \"Standard deviation in % of X over time - S3\")\n",
    "\n",
    "times=all_comp_dict_S3[\"Times\"]\n",
    "var=sigma_x2/x2*100-sigma_x1/x1*100\n",
    "gh.plot_single_trend(var,times,3, \"Standard deviation in % of X over time - S3-S2\")"
   ]
  },
  {
   "cell_type": "code",
   "execution_count": null,
   "id": "07f416ea",
   "metadata": {},
   "outputs": [],
   "source": [
    "x_c1,sigma_x_c1=gh.plot_traceable_component(\n",
    "    all_comp_dict_S2,\n",
    "    \"x_c\",\n",
    "    model_cols,\n",
    "    delta=True,\n",
    ")\n",
    "x_c2,sigma_x_c2=gh.plot_traceable_component(\n",
    "    all_comp_dict_S3,\n",
    "    \"x_c\",\n",
    "    model_cols,\n",
    "    delta=True,\n",
    ")"
   ]
  },
  {
   "cell_type": "code",
   "execution_count": null,
   "id": "a9145cb5",
   "metadata": {},
   "outputs": [],
   "source": [
    "times=all_comp_dict_S2[\"Times\"]\n",
    "var=sigma_x_c1\n",
    "gh.plot_single_trend(var,times,3,\"Standard deviation of X_c over time - S2\")\n",
    "\n",
    "times=all_comp_dict_S3[\"Times\"]\n",
    "var=sigma_x_c2\n",
    "gh.plot_single_trend(var,times,3, \"Standard deviation of X_c over time - S3\")\n",
    "\n",
    "times=all_comp_dict_S3[\"Times\"]\n",
    "var=sigma_x_c2-sigma_x_c1\n",
    "gh.plot_single_trend(var,times,3, \"Standard deviation of X_c over time - S3-S2\")"
   ]
  },
  {
   "cell_type": "code",
   "execution_count": null,
   "id": "c291a5e1",
   "metadata": {},
   "outputs": [],
   "source": [
    "x_p1,sigma_x_p1=gh.plot_traceable_component(\n",
    "    all_comp_dict_S2,\n",
    "    \"x_p\",\n",
    "    model_cols,\n",
    "    #delta=True,\n",
    ")\n",
    "x_p2,sigma_x_p2=gh.plot_traceable_component(\n",
    "    all_comp_dict_S3,\n",
    "    \"x_p\",\n",
    "    model_cols,\n",
    "    #delta=True,\n",
    ")"
   ]
  },
  {
   "cell_type": "code",
   "execution_count": null,
   "id": "a621354a",
   "metadata": {},
   "outputs": [],
   "source": [
    "times=all_comp_dict_S2[\"Times\"]\n",
    "var=x_p1/x1*100\n",
    "gh.plot_single_trend(var,times,3,\"Mean X_p in % of X over time\")\n",
    "times=all_comp_dict_S3[\"Times\"]\n",
    "var=x_p2/x2*100\n",
    "gh.plot_single_trend(var,times,3,\"Mean X_p in % of X over time\")"
   ]
  },
  {
   "cell_type": "code",
   "execution_count": null,
   "id": "ee8356a8",
   "metadata": {},
   "outputs": [],
   "source": [
    "u1, sigma_u1=gh.plot_traceable_component(\n",
    "    all_comp_dict_S2,\n",
    "    \"u\",\n",
    "    model_cols,\n",
    "    #delta=True,\n",
    ")\n",
    "u2, sigma_u2=gh.plot_traceable_component(\n",
    "    all_comp_dict_S3,\n",
    "    \"u\",\n",
    "    model_cols,\n",
    "    #delta=True,\n",
    ")"
   ]
  },
  {
   "cell_type": "code",
   "execution_count": null,
   "id": "9cc725fa",
   "metadata": {},
   "outputs": [],
   "source": [
    "times=all_comp_dict_S2[\"Times\"]\n",
    "var=sigma_u1/u1*100\n",
    "gh.plot_single_trend(var,times,3,\"Standard deviation in % of u over time - S2\")\n",
    "\n",
    "times=all_comp_dict_S3[\"Times\"]\n",
    "var=sigma_u2/u2*100\n",
    "gh.plot_single_trend(var,times,3, \"Standard deviation in % of u over time - S3\")\n",
    "\n",
    "times=all_comp_dict_S3[\"Times\"]\n",
    "var=(sigma_u2/u2*100-sigma_u1/u1*100)\n",
    "gh.plot_single_trend(var,times,3, \"Uncertainty of u increase S3-S2 in % of S2\")"
   ]
  },
  {
   "cell_type": "code",
   "execution_count": null,
   "id": "5394befa",
   "metadata": {},
   "outputs": [],
   "source": [
    "rt1,sigma_rt1=gh.plot_traceable_component(\n",
    "    all_comp_dict_S2,\n",
    "    \"rt\",\n",
    "    model_cols,\n",
    "    #delta=True,\n",
    ")\n",
    "rt2,sigma_rt2=gh.plot_traceable_component(\n",
    "    all_comp_dict_S3,\n",
    "    \"rt\",\n",
    "    model_cols,\n",
    "    #delta=True,\n",
    ")"
   ]
  },
  {
   "cell_type": "code",
   "execution_count": null,
   "id": "19870edc",
   "metadata": {},
   "outputs": [],
   "source": [
    "times=all_comp_dict_S2[\"Times\"]\n",
    "var=sigma_rt1/rt1*100\n",
    "gh.plot_single_trend(var,times,3,\"Standard deviation in % of rt over time - S2\")\n",
    "\n",
    "times=all_comp_dict_S3[\"Times\"]\n",
    "var=sigma_rt2/rt2*100\n",
    "gh.plot_single_trend(var,times,3, \"Standard deviation in % of rt over time - S3\")\n",
    "\n",
    "times=all_comp_dict_S3[\"Times\"]\n",
    "var=(sigma_rt2/rt2*100-sigma_rt1/rt1*100)\n",
    "gh.plot_single_trend(var,times,3, \"Uncertainty of rt increase S3-S2 in % of S2\")"
   ]
  },
  {
   "cell_type": "code",
   "execution_count": null,
   "id": "a09c4a88",
   "metadata": {},
   "outputs": [],
   "source": [
    "nep1,sigma_nep1=gh.plot_traceable_component(\n",
    "    all_comp_dict_S2,\n",
    "    \"nep\",\n",
    "    model_cols,\n",
    "    #delta=True,\n",
    ")\n",
    "nep2,sigma_nep2=gh.plot_traceable_component(\n",
    "    all_comp_dict_S3,\n",
    "    \"nep\",\n",
    "    model_cols,\n",
    "    #delta=True,\n",
    ")"
   ]
  },
  {
   "cell_type": "code",
   "execution_count": null,
   "id": "26fcf06f",
   "metadata": {},
   "outputs": [],
   "source": [
    "times=all_comp_dict_S2[\"Times\"]\n",
    "var=sigma_nep1\n",
    "gh.plot_single_trend(var,times,3,\"Standard deviation of nep over time - S2\")\n",
    "\n",
    "times=all_comp_dict_S3[\"Times\"]\n",
    "var=sigma_nep2\n",
    "gh.plot_single_trend(var,times,3, \"Standard deviation of nep over time - S3\")\n",
    "\n",
    "times=all_comp_dict_S3[\"Times\"]\n",
    "var=(sigma_nep2-sigma_nep1)/sigma_u1*100\n",
    "gh.plot_single_trend(var,times,3, \"Uncertainty of nep increase S3-S2 in % of S2\")"
   ]
  },
  {
   "cell_type": "code",
   "execution_count": null,
   "id": "6330e467",
   "metadata": {},
   "outputs": [],
   "source": [
    "rh1,sigma_rh1=gh.plot_traceable_component(\n",
    "    all_comp_dict_S2,\n",
    "    \"rh\",\n",
    "    model_cols,\n",
    "    delta=True,\n",
    ")\n",
    "rh2,sigma_rh2=gh.plot_traceable_component(\n",
    "    all_comp_dict_S3,\n",
    "    \"rh\",\n",
    "    model_cols,\n",
    "    delta=True,\n",
    ")"
   ]
  },
  {
   "cell_type": "code",
   "execution_count": null,
   "id": "584893fe",
   "metadata": {},
   "outputs": [],
   "source": [
    "ra1,sigma_ra1=gh.plot_traceable_component(\n",
    "    all_comp_dict_S2,\n",
    "    \"ra\",\n",
    "    model_cols,\n",
    "    delta=True,\n",
    ")\n",
    "ra2,sigma_ra2=gh.plot_traceable_component(\n",
    "    all_comp_dict_S3,\n",
    "    \"ra\",\n",
    "    model_cols,\n",
    "    delta=True,\n",
    ")"
   ]
  },
  {
   "cell_type": "markdown",
   "id": "b3be9359",
   "metadata": {},
   "source": [
    "### Uncertainty attribution"
   ]
  },
  {
   "cell_type": "code",
   "execution_count": null,
   "id": "488e8ac3",
   "metadata": {},
   "outputs": [],
   "source": [
    "plt.rcParams.update({'font.size': 12})"
   ]
  },
  {
   "cell_type": "code",
   "execution_count": null,
   "id": "c0df9e83",
   "metadata": {
    "scrolled": false
   },
   "outputs": [],
   "source": [
    "gh.plot_attribution_sum (\n",
    "    all_comp_dict=all_comp_dict_S2,\n",
    "    percent=True,\n",
    "    part=1,\n",
    ")\n",
    "gh.plot_attribution_sum (\n",
    "    all_comp_dict=all_comp_dict_S3,\n",
    "    percent=True,\n",
    "    part=1,\n",
    ")"
   ]
  },
  {
   "cell_type": "code",
   "execution_count": null,
   "id": "0b7d6aac",
   "metadata": {},
   "outputs": [],
   "source": []
  },
  {
   "cell_type": "code",
   "execution_count": null,
   "id": "9731114a",
   "metadata": {},
   "outputs": [],
   "source": []
  }
 ],
 "metadata": {
  "jupytext": {
   "encoding": "# -*- coding: utf-8 -*-",
   "formats": "ipynb,py:light"
  },
  "kernelspec": {
   "display_name": "Python 3 (ipykernel)",
   "language": "python",
   "name": "python3"
  },
  "language_info": {
   "codemirror_mode": {
    "name": "ipython",
    "version": 3
   },
   "file_extension": ".py",
   "mimetype": "text/x-python",
   "name": "python",
   "nbconvert_exporter": "python",
   "pygments_lexer": "ipython3",
   "version": "3.8.13"
  }
 },
 "nbformat": 4,
 "nbformat_minor": 5
}
