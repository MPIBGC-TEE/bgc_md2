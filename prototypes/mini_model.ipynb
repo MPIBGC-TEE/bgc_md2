{
 "cells": [
  {
   "cell_type": "code",
   "execution_count": 1,
   "id": "74ed23ce",
   "metadata": {},
   "outputs": [],
   "source": [
    "from sympy import var,Function,Symbol,Rational\n",
    "from ComputabilityGraphs.CMTVS import CMTVS\n",
    "from bgc_md2.helper import bgc_md2_computers\n",
    "from bgc_md2.resolve.mvars import (\n",
    "    InFluxesBySymbol,\n",
    "    OutFluxesBySymbol,\n",
    "    InternalFluxesBySymbol,\n",
    "    TimeSymbol,\n",
    "    StateVariableTuple,\n",
    ")"
   ]
  },
  {
   "cell_type": "code",
   "execution_count": 2,
   "id": "68d37a75",
   "metadata": {},
   "outputs": [],
   "source": [
    "# obtain dictionary of symbols for equations from txt file\n",
    "params_in = open(r\"mini_model_sym_dict_24.txt\", 'r')\n",
    "sym_dict = {}\n",
    "for line in params_in:\n",
    "    k, v = line.strip().split('=')\n",
    "    sym_dict[k.strip()] = v.strip()\n",
    "    \n",
    "params_in.close()"
   ]
  },
  {
   "cell_type": "code",
   "execution_count": 3,
   "id": "23b36fa4",
   "metadata": {},
   "outputs": [],
   "source": [
    "#define all the symbols you are going to use in the equations\n",
    "\n",
    "for k in sym_dict.keys():\n",
    "    code = k+\" = Symbol('{0}')\".format(k)\n",
    "    exec(code)\n",
    "    \n",
    "func_dict = {\n",
    "    \"gpdf\": \"function for calculating temperature effect on production\",\n",
    "    \"scale\": \"function called in treemix.F and cropmix.F\"\n",
    "}\n",
    "for k in func_dict.keys():\n",
    "    code = k+\" = Function('{0}')\".format(k)\n",
    "    exec(code)  \n",
    "    \n",
    "gpdf = Function(\"gpdf\")\n",
    "scale = Function(\"scale\") \n",
    "t = TimeSymbol(\"t\") # the symbol used for time since it has a special role\n",
    "e = Symbol(\"e\")   # for exponential functions\n",
    "\n",
    "potprd = c3c4*gpdf(stemp,ppdf1_C3,ppdf2_C3,ppdf3_C3,ppdf4_C3) + (1-c3c4)*gpdf(stemp,ppdf1_C4,ppdf2_C4,ppdf3_C4,ppdf4_C4)\n",
    "prdx_1 = scale(c3c4, prdx_C3, prdx_C4)\n",
    "agprod = prdx_1*potprd*((avh2o_1 + (ppt_m * 0.1)) / pet)*biof*shdmod*sdlng\n",
    "bgprod = agprod*rtsh\n",
    "cprodc = (agprod + bgprod) * 0.4\n",
    "cprodf = ((prdx_2*f_stemp_ppdf_2*((avh2o_2 + (ppt_m * 0.1)) / pet)*f_lait_laitop*0.5) - sumrsp)\n",
    "\n",
    "\n",
    "# formulate the model\n",
    "mvs = CMTVS(\n",
    "    {\n",
    "        StateVariableTuple( # the pool names in your preferred order\n",
    "            (\n",
    "                AGLIVC,\n",
    "                BGLIVC,\n",
    "                STDEDC,\n",
    "                STRUCC_1,\n",
    "                STRUCC_2,\n",
    "                SOM1C_1,\n",
    "                SOM1C_2,\n",
    "                SOM2C,\n",
    "                SOM3C,\n",
    "                METABC_1,\n",
    "                METABC_2,\n",
    "                CROOTC,\n",
    "                FBRCHC,\n",
    "                FROOTC,\n",
    "                RLEAVC,\n",
    "                RLWODC,\n",
    "                WOOD1C,\n",
    "                WOOD2C,\n",
    "                WOOD3C,\n",
    "            )\n",
    "        ), \n",
    "        t, \n",
    "        InFluxesBySymbol({   # trees.F, growth.F\n",
    "                AGLIVC: cprodc * (agprod/(agprod + bgprod)),\n",
    "                BGLIVC: cprodc * (1 - (agprod/(agprod + bgprod))),\n",
    "                RLEAVC: cprodf * fcfrac_1_1,\n",
    "                FROOTC: cprodf * fcfrac_2_1,\n",
    "                FBRCHC: cprodf * fcfrac_3_1,\n",
    "                RLWODC: cprodf * fcfrac_4_1,\n",
    "                CROOTC: cprodf * fcfrac_5_1\n",
    "        }),\n",
    "        OutFluxesBySymbol({    # CO2 losses\n",
    "            # woodec.F DECW* and WDLIG* values at cen_warmstart.F PLIGST(*)=3\n",
    "            WOOD1C: ((decw1 * defac * (e**(-3*wdlig_3)) * Rational(45,100) * (1-wdlig_3)) + \\\n",
    "                    (decw1 * defac * (e**(-3*wdlig_3)) * Rational(3,10) * wdlig_3)) * WOOD1C,\n",
    "            WOOD2C: ((decw2 * defac * (e**(-3*wdlig_4)) * Rational(45,100) * (1-wdlig_4)) + \\\n",
    "                    (decw2 * defac * (e**(-3*wdlig_4)) * Rational(3,10) * wdlig_4)) * WOOD2C,\n",
    "            WOOD3C: ((decw3 * defac * (e**(-3*wdlig_5)) * Rational(45,100) * (1-wdlig_5)) + \\\n",
    "                    (decw3 * defac * (e**(-3*wdlig_5)) * Rational(3,10) * wdlig_5)) * WOOD3C,\n",
    "            # litdec.F declig.F somdec.F strlig(*)=ligcon PLIGST(*)=3 anerb=1; dec* have defined values in .100 files\n",
    "            STRUCC_1: ((dec1_1 * defac * (e**(-3*strlig_1)) * Rational(3,10) * strlig_1) + \\\n",
    "                      (dec1_1 * defac * (e**(-3*strlig_1)) * Rational(45,100) * (1-strlig_1))) * STRUCC_1,  \n",
    "            STRUCC_2: ((dec1_2 * defac * (e**(-3*strlig_2)) * Rational(3,10) * strlig_2) +  \\\n",
    "                      (dec1_2 * defac * (e**(-3*strlig_2)) * Rational(55,100) * (1-strlig_2))) * STRUCC_2, \n",
    "            METABC_1: (dec2_1 * defac * Rational(55,100)) * METABC_1, \n",
    "            METABC_2: (dec2_2 * defac * Rational(55,100)) * METABC_2,  \n",
    "            SOM1C_1: (dec3_1 * defac * Rational(6,10)) * SOM1C_1,\n",
    "            # eftext=peftxa*peftxb*sand prelim.F ln 304 PEFTXA, PEFTXB at .100\n",
    "            SOM1C_2: (dec3_2 * defac * eftext * p1co2_2) * SOM1C_2,\n",
    "            SOM2C: (dec5 * defac * Rational(55,100)) * SOM2C,\n",
    "            SOM3C: (dec4 * defac * Rational(55,100)) * SOM3C\n",
    "        }),\n",
    "        InternalFluxesBySymbol({\n",
    "            (AGLIVC, STDEDC): (fsdeth_i * dthppt + fsdeth_s) * AGLIVC,\n",
    "            # NOTA BENE: STDEDC and BGLIVC to metabolic and structural pools include the lignin to N ratio,\n",
    "            # which includes the N:C ratio. bglivc_1 = BGLIVC and stdedc_1 = STDEDC; N:C ratio may\n",
    "            # need its own matrix.\n",
    "            (BGLIVC, METABC_2): rdr * (1 - (avh2o_1/(deck5 + avh2o_1))) * \\\n",
    "            (spl_I - spl_S * (((fligni1_2 + fligni2_2*arain) * 2.5) / (bglive_1/bglivc_1)) ) * BGLIVC,\n",
    "            (BGLIVC, STRUCC_2):  rdr * (1 - (avh2o_1/(deck5 + avh2o_1))) * \\\n",
    "            (1 - (spl_I - spl_S * (((fligni1_2 + fligni2_2*arain) * 2.5) / (bglive_1/bglivc_1)))) * BGLIVC,\n",
    "            (STDEDC, METABC_1): fallrt * (spl_I - spl_S * (((fligni1_1 + fligni2_1*arain) * 2.5) / \\\n",
    "                                                           (stdede_1/stdedc_1)) ) * STDEDC,\n",
    "            (STDEDC, STRUCC_1): fallrt * (1 - (spl_I - spl_S * (((fligni1_1 + fligni2_1*arain) * 2.5) / \\\n",
    "                                                                (stdede_1/stdedc_1)))) * STDEDC,\n",
    "            # (1) leaves (2) fine roots (3) fine branches (4) large wood (5) coarse roots\n",
    "            # wdeath.F WOODDR*, LEAFDR values at cen_warmstart.F\n",
    "            # for RLEAVC, leafdr_d_mo=1 for tave less than 13C.\n",
    "            # NOTA BENE: RLEAVC and FROOTC to metabolic and structural pools include the lignin to N ratio,\n",
    "            # which includes the N:C ratio. rleavc_1 = RLEAVC and frootc_1 = FROOTC; N:C ratio may \n",
    "            # need its own matrix. \n",
    "            (RLEAVC, METABC_1): (wooddr_1 * leafdr_d_mo + (1-wooddr_1) * leafdr_e_mo) * \\\n",
    "            (spl_I - spl_S * ((wdlig_1 * 2.5) / (0.55 * rleave_1/rleavc_1)) ) * RLEAVC,\n",
    "            (RLEAVC, STRUCC_1): (wooddr_1 * leafdr_d_mo + (1-wooddr_1) * leafdr_e_mo) * \\\n",
    "            ( 1 - (spl_I - spl_S * ((wdlig_1 * 2.5) / (0.55 * rleave_1/rleavc_1)) )) * RLEAVC,\n",
    "            (FROOTC, METABC_2): wooddr_2 * (spl_I - spl_S * ((wdlig_2 * 2.5) / (froote_1/frootc_1)) ) * FROOTC,\n",
    "            (FROOTC, STRUCC_2): wooddr_2 * ( 1 - (spl_I - spl_S * ((wdlig_2 * 2.5) / (froote_1/frootc_1)))) * FROOTC,\n",
    "            (FBRCHC, WOOD1C): wooddr_3 * FBRCHC,\n",
    "            (RLWODC, WOOD2C): wooddr_4 * RLWODC,\n",
    "            (CROOTC, WOOD3C): wooddr_5 * CROOTC,\n",
    "            (WOOD1C, SOM1C_2): (decw1 * defac * (e**(-3*wdlig_3)) * Rational(55,100) * (1-wdlig_3)) * WOOD1C,\n",
    "            (WOOD1C, SOM2C): (decw1 * defac * (e**(-3*wdlig_3)) * Rational(7,10) * wdlig_3) * WOOD1C,\n",
    "            (WOOD2C, SOM1C_2): (decw2 * defac * (e**(-3*wdlig_4)) * Rational(55,100) * (1-wdlig_4)) * WOOD2C,\n",
    "            (WOOD2C, SOM2C): (decw2 * defac * (e**(-3*wdlig_4)) * Rational(7,10) * wdlig_4) * WOOD2C,\n",
    "            (WOOD3C, SOM1C_2): (decw3 * defac * (e**(-3*wdlig_5)) * Rational(55,100) * (1-wdlig_5)) * WOOD3C,\n",
    "            (WOOD3C, SOM2C): (decw3 * defac * (e**(-3*wdlig_5)) * Rational(7,10) * wdlig_5) * WOOD3C,\n",
    "            (STRUCC_1, SOM1C_1): (dec1_1 * defac * (e**(-3*strlig_1)) * Rational(55,100) * (1-strlig_1)) * STRUCC_1,\n",
    "            (STRUCC_1, SOM2C): (dec1_1 * defac * (e**(-3*strlig_1)) * Rational(7,10) * strlig_1) * STRUCC_1, \n",
    "            (STRUCC_2, SOM1C_2): (dec1_2 * defac * (e**(-3*strlig_2)) * Rational(45,100) * (1-strlig_2)) * STRUCC_2,\n",
    "            (STRUCC_2, SOM2C): (dec1_2 * defac * (e**(-3*strlig_2)) * Rational(7,10) * strlig_2) * STRUCC_2, \n",
    "            (METABC_1, SOM1C_1): (dec2_1 * defac * Rational(45,100)) * METABC_1, \n",
    "            (METABC_2, SOM1C_2): (dec2_2 * defac * Rational(45,100)) * METABC_2, \n",
    "            (SOM1C_1, SOM2C): (dec3_1 * defac * Rational(4,10)) * SOM1C_1, # P1CO2A(1)=0.6\n",
    "            # p1co2_2=p1co2a_2+p1co2b_2*sand prelim.F ln 311 P1CO2A(2), P1CO2B(2) at *.100\n",
    "            # fps1s3=ps1s3(1)+ps1s3(2)*clay prelim.F ln 315 PS1S3(1), PS1S3(2) at *.100\n",
    "            # orglch=omlech(1)+omlech(2)*sand predec.F ln 106 OMLECH(1), OMLECH(2) at *.100\n",
    "            # f_asmos2=min(1-((omlech(3)-amov(2))/omlech(3)), 1) OMLECH(3) at *.100 amov(2) at h2olos.F\n",
    "            (SOM1C_2, SOM2C): (dec3_2 * defac * eftext * (1 - p1co2_2 - fps1s3 - (orglch*f_asmos2))) * SOM1C_2, \n",
    "            (SOM1C_2, SOM3C): (dec3_2 * defac * eftext * fps1s3) * SOM1C_2, \n",
    "            (SOM2C, SOM1C_2): (dec5 * defac * fps2s3) * SOM2C, \n",
    "            # fps2s3=ps2s3(1)+ps2s3(2)*clay prelim.F ln 316 PS2S3(1), PS2S3(2) at *.100\n",
    "            (SOM2C, SOM3C): (dec5 * defac * (Rational(45,100) - fps2s3)) * SOM2C, \n",
    "            (SOM3C, SOM1C_2): (dec4 * defac * Rational(45,100)) * SOM3C \n",
    "        }),\n",
    "    },\n",
    "    bgc_md2_computers()\n",
    "\n",
    ")"
   ]
  },
  {
   "cell_type": "code",
   "execution_count": 4,
   "id": "674953e0",
   "metadata": {},
   "outputs": [
    {
     "name": "stdout",
     "output_type": "stream",
     "text": [
      "{CompartmentalMatrix,OutputTuple,InputTuple}\n",
      "{InternalFluxesBySymbol,OutFluxesBySymbol,InputTuple,CompartmentalMatrix,SmoothReservoirModel,InFluxesBySymbol,OutputTuple}\n",
      "{InternalFluxesBySymbol,OutFluxesBySymbol,InputTuple,CompartmentalMatrix,SmoothReservoirModel,InFluxesBySymbol,OutputTuple}\n"
     ]
    }
   ],
   "source": [
    "#start to query the model description..\n",
    "M=mvs.get_CompartmentalMatrix()\n",
    "#M.inverse_LU()"
   ]
  },
  {
   "cell_type": "code",
   "execution_count": null,
   "id": "a5d45c1b",
   "metadata": {
    "scrolled": true
   },
   "outputs": [],
   "source": [
    "mvs.get_InputTuple()"
   ]
  },
  {
   "cell_type": "code",
   "execution_count": null,
   "id": "4498570a",
   "metadata": {
    "scrolled": true
   },
   "outputs": [],
   "source": [
    "mvs.get_StateVariableTuple()"
   ]
  },
  {
   "cell_type": "code",
   "execution_count": null,
   "id": "42263fbd",
   "metadata": {
    "scrolled": true
   },
   "outputs": [],
   "source": [
    "from bgc_md2.helper import compartmental_graph\n",
    "compartmental_graph(mvs)"
   ]
  },
  {
   "cell_type": "code",
   "execution_count": null,
   "id": "f912608a",
   "metadata": {
    "scrolled": true
   },
   "outputs": [],
   "source": [
    "from bgc_md2.display_helpers import mass_balance_equation\n",
    "mass_balance_equation(mvs)"
   ]
  },
  {
   "cell_type": "code",
   "execution_count": null,
   "id": "e381ce6b",
   "metadata": {},
   "outputs": [],
   "source": [
    "# for comparison the century model as found in our database\n",
    "#from bgc_md2.models.Parton1987SoilSciSocAmJ.source_by_name import mvs as mvs_century\n",
    "#mvs.computable_mvar_types\n",
    "#mvs_century.get_InputTuple()\n",
    "#compartmental_graph(mvs_century)\n",
    "#mass_balance_equation(mvs_century)\n",
    "#BI=mvs_century.get_BibInfo()\n",
    "#BI.sym_dict"
   ]
  },
  {
   "cell_type": "code",
   "execution_count": 5,
   "id": "222fde3d-b4c2-4f68-a803-87927429f742",
   "metadata": {
    "scrolled": true
   },
   "outputs": [
    {
     "data": {
      "text/plain": [
       "{AGLIVC,\n",
       " BGLIVC,\n",
       " CROOTC,\n",
       " FBRCHC,\n",
       " FROOTC,\n",
       " METABC_1,\n",
       " METABC_2,\n",
       " RLEAVC,\n",
       " RLWODC,\n",
       " SOM1C_1,\n",
       " SOM1C_2,\n",
       " SOM2C,\n",
       " SOM3C,\n",
       " STDEDC,\n",
       " STRUCC_1,\n",
       " STRUCC_2,\n",
       " WOOD1C,\n",
       " WOOD2C,\n",
       " WOOD3C,\n",
       " arain,\n",
       " avh2o_1,\n",
       " avh2o_2,\n",
       " bglivc_1,\n",
       " bglive_1,\n",
       " biof,\n",
       " c3c4,\n",
       " dec1_1,\n",
       " dec1_2,\n",
       " dec2_1,\n",
       " dec2_2,\n",
       " dec3_1,\n",
       " dec3_2,\n",
       " dec4,\n",
       " dec5,\n",
       " deck5,\n",
       " decw1,\n",
       " decw2,\n",
       " decw3,\n",
       " defac,\n",
       " dthppt,\n",
       " e,\n",
       " eftext,\n",
       " f_asmos2,\n",
       " f_lait_laitop,\n",
       " f_stemp_ppdf_2,\n",
       " fallrt,\n",
       " fcfrac_1_1,\n",
       " fcfrac_2_1,\n",
       " fcfrac_3_1,\n",
       " fcfrac_4_1,\n",
       " fcfrac_5_1,\n",
       " fligni1_1,\n",
       " fligni1_2,\n",
       " fligni2_1,\n",
       " fligni2_2,\n",
       " fps1s3,\n",
       " fps2s3,\n",
       " frootc_1,\n",
       " froote_1,\n",
       " fsdeth_i,\n",
       " fsdeth_s,\n",
       " leafdr_d_mo,\n",
       " leafdr_e_mo,\n",
       " orglch,\n",
       " p1co2_2,\n",
       " pet,\n",
       " ppdf1_C3,\n",
       " ppdf1_C4,\n",
       " ppdf2_C3,\n",
       " ppdf2_C4,\n",
       " ppdf3_C3,\n",
       " ppdf3_C4,\n",
       " ppdf4_C3,\n",
       " ppdf4_C4,\n",
       " ppt_m,\n",
       " prdx_2,\n",
       " prdx_C3,\n",
       " prdx_C4,\n",
       " rdr,\n",
       " rleavc_1,\n",
       " rleave_1,\n",
       " rtsh,\n",
       " sdlng,\n",
       " shdmod,\n",
       " spl_I,\n",
       " spl_S,\n",
       " stdedc_1,\n",
       " stdede_1,\n",
       " stemp,\n",
       " strlig_1,\n",
       " strlig_2,\n",
       " sumrsp,\n",
       " wdlig_1,\n",
       " wdlig_2,\n",
       " wdlig_3,\n",
       " wdlig_4,\n",
       " wdlig_5,\n",
       " wooddr_1,\n",
       " wooddr_2,\n",
       " wooddr_3,\n",
       " wooddr_4,\n",
       " wooddr_5}"
      ]
     },
     "execution_count": 5,
     "metadata": {},
     "output_type": "execute_result"
    }
   ],
   "source": [
    "# I will just create a dictionary with completely arbitrary values for the parameters\n",
    "# and one for the functions \n",
    "# Don't get a heart attack .. how ignorant I might be about the TRUE values... \n",
    "# This is just a guide for the technical side\n",
    "\n",
    "# first I find out which parameters there are...\n",
    "# Any sympy expression has a free_symbols method and I implemented a similar one\n",
    "# for the symbolic model class. Its a shortcut that looks at matrix and Inputs \n",
    "# and removes the statevariables automatically\n",
    "srm=mvs.get_SmoothReservoirModel()\n",
    "srm.free_symbols\n",
    "# Of course you would probably know this but this little test is useful half way through \n",
    "# to check which parameters are still in need of a value..."
   ]
  },
  {
   "cell_type": "code",
   "execution_count": 13,
   "id": "17a75c4d-8ca7-4851-a014-45d74d0bb3bc",
   "metadata": {},
   "outputs": [],
   "source": [
    "# In real live you would probably read this from a textfile\n",
    "# ... yes, read parameter dictionary from a txt file\n",
    "import ast\n",
    "par_dict_in = open(r\"mini_model_params_dict_24.txt\", 'r')\n",
    "par_dict = {}\n",
    "for line in par_dict_in:\n",
    "    k, v = line.strip().split('=')\n",
    "    par_dict[k.strip()] = ast.literal_eval(v)\n",
    "    \n",
    "par_dict_in.close()"
   ]
  },
  {
   "cell_type": "code",
   "execution_count": 14,
   "id": "3d471854-75c8-41bf-9060-14932541e78b",
   "metadata": {
    "scrolled": true
   },
   "outputs": [
    {
     "data": {
      "text/plain": [
       "{'agprod': 1,\n",
       " 'arain': 100,\n",
       " 'avh2o_1': 10,\n",
       " 'avh2o_2': 5,\n",
       " 'bglivc_1': 1,\n",
       " 'bglive_1': 1,\n",
       " 'bgprod': 1,\n",
       " 'biof': 1,\n",
       " 'c3c4': 0.55,\n",
       " 'cprodc': 1,\n",
       " 'cprodf': 1,\n",
       " 'dec1_1': 3.9,\n",
       " 'dec1_2': 4.9,\n",
       " 'dec2_1': 14.8,\n",
       " 'dec2_2': 18.5,\n",
       " 'dec3_1': 6.0,\n",
       " 'dec3_2': 7.3,\n",
       " 'dec4': 0.0045,\n",
       " 'dec5': 0.2,\n",
       " 'deck5': 5.0,\n",
       " 'decw1': 0.9,\n",
       " 'decw2': 0.4,\n",
       " 'decw3': 0.4,\n",
       " 'defac': 0.8,\n",
       " 'dthppt': 0.5,\n",
       " 'e': 2.718281828459045,\n",
       " 'eftext': 0.075,\n",
       " 'f_asmos2': 0.98,\n",
       " 'f_lait_laitop': 0.2,\n",
       " 'f_stemp_ppdf_2': 1,\n",
       " 'fallrt': 0.2,\n",
       " 'fcfrac_1_1': 0.37,\n",
       " 'fcfrac_2_1': 0.34,\n",
       " 'fcfrac_3_1': 0.1,\n",
       " 'fcfrac_4_1': 0.18,\n",
       " 'fcfrac_5_1': 0.01,\n",
       " 'fligni1_1': 0.02,\n",
       " 'fligni2_1': 0.0012,\n",
       " 'fligni1_2': 0.26,\n",
       " 'fligni2_2': -0.0015,\n",
       " 'fps1s3': 0.0126,\n",
       " 'fps2s3': 0.0057,\n",
       " 'frootc_1': 1,\n",
       " 'froote_1': 1,\n",
       " 'fsdeth_i': 0.2,\n",
       " 'fsdeth_s': 0.2,\n",
       " 'leafdr_d_mo': 0,\n",
       " 'leafdr_e_mo': 0.03,\n",
       " 'orglch': 0.078,\n",
       " 'p1co2_2': 0.442,\n",
       " 'pet': 0.02,\n",
       " 'ppdf1_C3': 18.0,\n",
       " 'ppdf2_C3': 32.0,\n",
       " 'ppdf3_C3': 1.2,\n",
       " 'ppdf4_C3': 3.0,\n",
       " 'ppdf1_C4': 30.0,\n",
       " 'ppdf2_C4': 45.0,\n",
       " 'ppdf3_C4': 1.0,\n",
       " 'ppdf4_C4': 3.0,\n",
       " 'ppt_m': 5.0,\n",
       " 'prdx_2': 1,\n",
       " 'prdx_C3': 150,\n",
       " 'prdx_C4': 200,\n",
       " 'rdr': 0.05,\n",
       " 'rleavc_1': 1,\n",
       " 'rleave_1': 1,\n",
       " 'rtsh': 0,\n",
       " 'sdlng': 1,\n",
       " 'shdmod': 0.5,\n",
       " 'spl_I': 0.85,\n",
       " 'spl_S': 0.013,\n",
       " 'stdedc_1': 1,\n",
       " 'stdede_1': 1,\n",
       " 'stemp': 10.0,\n",
       " 'strlig_1': 1,\n",
       " 'strlig_2': 1,\n",
       " 'sumrsp': 4.0,\n",
       " 'wdlig_1': 0.21,\n",
       " 'wdlig_2': 0.22,\n",
       " 'wdlig_3': 0.3,\n",
       " 'wdlig_4': 0.3,\n",
       " 'wdlig_5': 0.25,\n",
       " 'wooddr_1': 1.0,\n",
       " 'wooddr_2': 0.05,\n",
       " 'wooddr_3': 0.01,\n",
       " 'wooddr_4': 0.0008,\n",
       " 'wooddr_5': 0.001}"
      ]
     },
     "execution_count": 14,
     "metadata": {},
     "output_type": "execute_result"
    }
   ],
   "source": [
    "par_dict"
   ]
  },
  {
   "cell_type": "code",
   "execution_count": null,
   "id": "15f7fb45-e437-4628-acf3-a273056c05f1",
   "metadata": {},
   "outputs": [],
   "source": [
    "# The functions are a bit more obvious since we only expressed a view of them explicitly \n",
    "# but we could also find them as the little example schows...\n",
    "test_f = Function(\"test_f\")\n",
    "x = Symbol(\"x\")\n",
    "expr = x**2*test_f(x)\n",
    "expr, expr.atoms(Function)"
   ]
  },
  {
   "cell_type": "code",
   "execution_count": 7,
   "id": "d168acaa-9b39-4c2c-80eb-8ab9c0dbcde3",
   "metadata": {},
   "outputs": [
    {
     "data": {
      "text/plain": [
       "{gpdf(stemp, ppdf1_C3, ppdf2_C3, ppdf3_C3, ppdf4_C3),\n",
       " gpdf(stemp, ppdf1_C4, ppdf2_C4, ppdf3_C4, ppdf4_C4),\n",
       " scale(c3c4, prdx_C3, prdx_C4)}"
      ]
     },
     "execution_count": 7,
     "metadata": {},
     "output_type": "execute_result"
    }
   ],
   "source": [
    "# Now for our real model, where functions could be in the  \n",
    "mvs.get_InputTuple().atoms(Function).union(mvs.get_CompartmentalMatrix().atoms(Function))"
   ]
  },
  {
   "cell_type": "code",
   "execution_count": 17,
   "id": "36393598-946d-41ce-afdf-c1a0c474bd09",
   "metadata": {
    "scrolled": true
   },
   "outputs": [
    {
     "data": {
      "image/png": "[encoded data removed]",
      "text/plain": [
       "<Figure size 640x480 with 1 Axes>"
      ]
     },
     "metadata": {},
     "output_type": "display_data"
    }
   ],
   "source": [
    "import numpy as np\n",
    "import matplotlib.pyplot as plt\n",
    "# It seems that the G_pp_grass function is no longer here \n",
    "# but I demonstrate how to build a concrete numeric version of this symbolic function,\n",
    "# which will in real live in all likelyhood be an interpolation from data (probably from a netcdf file)\n",
    "# We can build such a function later when you tell me about your data format.\n",
    "# Here invented  a seasonal function with a peak in the middle of the year\n",
    "def num_G_pp_grass(t):\n",
    "    omega=2*np.pi/365 #period of 365 days  \n",
    "    phi=np.pi # phaseshift to start at the lowest value at t=0\n",
    "    return 1+np.cos(omega*t + phi)\n",
    "ts=np.array(range(730))\n",
    "ax=plt.plot(ts,num_G_pp_grass(ts))\n",
    "#func_dict={Gpp_grass(t): num_G_pp_grass}\n",
    "# but since we have not functions left we define an empty func_dict\n",
    "#func_dict=dict()"
   ]
  },
  {
   "cell_type": "code",
   "execution_count": 12,
   "id": "6c12e559-4216-4fd1-bea6-79612cb9b0c4",
   "metadata": {},
   "outputs": [],
   "source": [
    "# functions from century\n",
    "import numpy as np\n",
    "\n",
    "def gpdf(x,a,b,c,d):\n",
    "    frac = (b-x)/(b-a)\n",
    "    if frac>0:\n",
    "        return (pow(frac,c))*np.exp((c/d)*(1-pow(frac,d)))\n",
    "    else:\n",
    "        return 0\n",
    "\n",
    "def scale(fac, val1, val2):\n",
    "    return (fac*val1) + ((1-fac) * val2)\n",
    "\n",
    "func_dict = {\n",
    "    gpdf(stemp,ppdf1_C3,ppdf2_C3,ppdf3_C3,ppdf4_C3): gpdf,\n",
    "    gpdf(stemp,ppdf1_C4,ppdf2_C4,ppdf3_C4,ppdf4_C4): gpdf,\n",
    "    scale(c3c4, prdx_C3, prdx_C4): scale\n",
    "}\n"
   ]
  },
  {
   "cell_type": "code",
   "execution_count": null,
   "id": "0f8fbb92-e75e-40dd-9f5d-cfaded61fa70",
   "metadata": {},
   "outputs": [],
   "source": [
    "# The last thing we need to run the model are the startvalues\n",
    "# These are found in the .100 files in the ModelParameters_MC2 directory by veg type; see sumcar.F for equivalent parameter names.\n",
    "# METABC and STRUCC are initialized in calciv.F.\n",
    "svd={\n",
    "    AGLIVC:0, \n",
    "    BGLIVC:200, \n",
    "    STDEDC:50, \n",
    "    STRUCC_1:0, \n",
    "    STRUCC_2:0, \n",
    "    SOM1C_1:25,\n",
    "    SOM1C_2:35,\n",
    "    SOM2C:2400,\n",
    "    SOM3C:1400,\n",
    "    METABC_1:0,\n",
    "    METABC_2:0,\n",
    "    CROOTC:500,\n",
    "    FBRCHC:150,\n",
    "    FROOTC:524,\n",
    "    RLEAVC:28,\n",
    "    RLWODC:300,\n",
    "    WOOD1C:180,\n",
    "    WOOD2C:100,\n",
    "    WOOD3C:100\n",
    "}\n",
    "svt=mvs.get_StateVariableTuple()\n",
    "#svt"
   ]
  },
  {
   "cell_type": "code",
   "execution_count": null,
   "id": "e5d19bf3-f342-4a76-beb9-d29aa805bdcf",
   "metadata": {
    "scrolled": true
   },
   "outputs": [],
   "source": [
    "# We make a small test that we have all startvalues of them by substituting the values  for the symbols\n",
    "svt.subs(svd)"
   ]
  },
  {
   "cell_type": "code",
   "execution_count": null,
   "id": "e9dab063-dc91-4486-a90b-06ef9e31648c",
   "metadata": {},
   "outputs": [],
   "source": [
    "# Now we can update our mvs object (CMTVS Connected Multi Type Variable Set) \n",
    "from bgc_md2.resolve.mvars import NumericParameterization,NumericStartValueDict,NumericSimulationTimes\n",
    "mvs=mvs.update(\n",
    "    [\n",
    "        NumericParameterization(par_dict=par_dict,func_dict=func_dict),\n",
    "        NumericStartValueDict(svd),\n",
    "        NumericSimulationTimes(ts)\n",
    "    ]\n",
    ")\n",
    "\n",
    "sa=mvs.get_NumericSolutionArray()\n",
    "_, n_pools=sa.shape\n",
    "fig = plt.figure(figsize=(10,10*n_pools))\n",
    "axs=fig.subplots(n_pools)\n",
    "for i in range(n_pools):\n",
    "    ax=axs[i]\n",
    "    ax.plot(ts,sa[:,i])\n",
    "    ax.set_title(svt[i])"
   ]
  },
  {
   "cell_type": "code",
   "execution_count": null,
   "id": "278463e0-5b75-4fa0-9aa3-0f2df9be58c0",
   "metadata": {},
   "outputs": [],
   "source": []
  },
  {
   "cell_type": "code",
   "execution_count": null,
   "id": "a9e0aa42-4340-49f6-9786-e29e20aa8b1e",
   "metadata": {},
   "outputs": [],
   "source": []
  },
  {
   "cell_type": "code",
   "execution_count": null,
   "id": "60d5ebc6",
   "metadata": {},
   "outputs": [],
   "source": [
    "x=Symbol(\"x\")"
   ]
  },
  {
   "cell_type": "code",
   "execution_count": null,
   "id": "ed322a38",
   "metadata": {},
   "outputs": [],
   "source": [
    "s=x**2-x\n",
    "\n",
    "s"
   ]
  },
  {
   "cell_type": "code",
   "execution_count": null,
   "id": "4b5a4adf",
   "metadata": {},
   "outputs": [],
   "source": [
    "type(s)"
   ]
  },
  {
   "cell_type": "code",
   "execution_count": null,
   "id": "2fcb995b",
   "metadata": {},
   "outputs": [],
   "source": [
    "from sympy import Rational\n",
    "Rational(45,100)"
   ]
  }
 ],
 "metadata": {
  "kernelspec": {
   "display_name": "Python 3 (ipykernel)",
   "language": "python",
   "name": "python3"
  },
  "language_info": {
   "codemirror_mode": {
    "name": "ipython",
    "version": 3
   },
   "file_extension": ".py",
   "mimetype": "text/x-python",
   "name": "python",
   "nbconvert_exporter": "python",
   "pygments_lexer": "ipython3",
   "version": "3.12.0"
  }
 },
 "nbformat": 4,
 "nbformat_minor": 5
}
