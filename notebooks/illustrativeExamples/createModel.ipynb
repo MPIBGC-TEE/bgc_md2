{
 "cells": [
  {
   "cell_type": "code",
   "execution_count": 1,
   "id": "44f9795b",
   "metadata": {},
   "outputs": [
    {
     "data": {
      "text/html": [
       "<style>.container { width:100% !important; }</style>"
      ],
      "text/plain": [
       "<IPython.core.display.HTML object>"
      ]
     },
     "metadata": {},
     "output_type": "display_data"
    }
   ],
   "source": [
    "# adjust the output to full width\n",
    "from IPython.display import HTML\n",
    "display(HTML(\"<style>.container { width:100% !important; }</style>\"))\n",
    "\n",
    "# make changes to imported files immidiately available \n",
    "# avoiding the need to reload (in most cases)\n",
    "%load_ext autoreload\n",
    "%autoreload 2"
   ]
  },
  {
   "cell_type": "markdown",
   "id": "c17ef057",
   "metadata": {},
   "source": [
    "This illustrative notebook shows how to create a representation for a new model.\n",
    "\n",
    "For the sake of simplicity we assume here that we start with a description of pools and fluxes.\n",
    "This is the form the models are usually described in the literature.\n",
    "We will see that the framework can derive a matrix representation automatically. \n",
    "\n",
    "It would also be possible to start from the matrices or even\n",
    "mix the two approaches. \n",
    "We will point to some more advanced examples where you can see this in action. If you get familiar with the framework you will find many more combinations than we can cover. \n",
    "\n",
    "## Inspect a minimal model\n",
    "\n",
    "We will start with an extremely simple model.\n",
    "whose original you can find in \n",
    "```bash\n",
    "bgc_md2/src/bgc_md2/models/testVectorFree/source.py\n",
    "```\n",
    "or via the following code:"
   ]
  },
  {
   "cell_type": "code",
   "execution_count": 2,
   "id": "61d828a2",
   "metadata": {},
   "outputs": [
    {
     "name": "stdout",
     "output_type": "stream",
     "text": [
      "from sympy import symbols\n",
      "from ComputabilityGraphs.CMTVS import CMTVS\n",
      "from bgc_md2.helper import bgc_md2_computers\n",
      "from bgc_md2.resolve.mvars import (\n",
      "    InFluxesBySymbol,\n",
      "    OutFluxesBySymbol,\n",
      "    InternalFluxesBySymbol,\n",
      "    TimeSymbol,\n",
      "    StateVariableTuple,\n",
      ")\n",
      "\n",
      "I_vl, I_vw = symbols(\"I_vl I_vw\")\n",
      "vl, vw = symbols(\"vl vw\")\n",
      "k_vl, k_vw = symbols(\"k_vl k_vw\")\n",
      "\n",
      "\n",
      "mvs = CMTVS(\n",
      "    {\n",
      "        StateVariableTuple((vl, vw)),\n",
      "        TimeSymbol(\"t\"),\n",
      "        InFluxesBySymbol({vl: I_vl, vw: I_vw}),\n",
      "        OutFluxesBySymbol({vl: k_vl * vl, vw: k_vw * vw}),\n",
      "        InternalFluxesBySymbol({(vl, vw): k_vl * vl, (vw, vl): k_vw * vw}),\n",
      "    },\n",
      "    bgc_md2_computers()\n",
      "\n",
      ")\n",
      "\n"
     ]
    }
   ],
   "source": [
    "import inspect\n",
    "import bgc_md2.models.testVectorFree.source \n",
    "print(inspect.getsource(bgc_md2.models.testVectorFree.source))"
   ]
  },
  {
   "cell_type": "markdown",
   "id": "b1aa74de",
   "metadata": {},
   "source": [
    "copy its contents into a new cell. (we can later save it under a new name) "
   ]
  },
  {
   "cell_type": "code",
   "execution_count": 3,
   "id": "85a2bd93",
   "metadata": {},
   "outputs": [],
   "source": [
    "\n",
    "from sympy import var, Symbol, Function \n",
    "from ComputabilityGraphs.CMTVS import CMTVS\n",
    "from ComputabilityGraphs.helpers import module_computers\n",
    "#from bgc_md2.helper import module_computers\n",
    "from bgc_md2.resolve.mvars import (\n",
    "    InFluxesBySymbol,\n",
    "    OutFluxesBySymbol,\n",
    "    InternalFluxesBySymbol,\n",
    "    TimeSymbol,\n",
    "    StateVariableTuple,\n",
    ")\n",
    "from importlib import import_module\n",
    "\n",
    "# Make a small dictionary for the variables we will use\n",
    "sym_dict={\n",
    "    \"leaf\": \"vegegation leaf pool\",\n",
    "    \"wood\": \"vegetation wood pool content\",\n",
    "    \"I_wood\": \"Influx into vegetation wood pool\",\n",
    "    \"k_wood_o\": \"out flux rate of wood pool\",\n",
    "    \"k_leaf_2_wood\": \"constant internal flux rate from leaf to wood\", \n",
    "    \"k_wood_2_leaf\": \"constant internal flux rate from wood to leaf\", \n",
    "}\n",
    "# Make symbols from  the strings that we can later use in expressions  \n",
    "# leaf, wood,...\n",
    "for k in sym_dict.keys():\n",
    "    code=k+\" = Symbol('{0}')\".format(k)\n",
    "    exec(code)\n",
    "\n",
    "# We will also use some symbolic functions (\"symbols\" with an argument) \n",
    "func_dict={\n",
    "    \"I_leaf\": \"Influx into vegetation leaf pool\",\n",
    "    \"k_leaf_o\": \"out flux rate of leaf pool\",\n",
    "}\n",
    "for k in func_dict.keys():\n",
    "    code=k+\" = Function('{0}')\".format(k)\n",
    "    exec(code)\n",
    "\n",
    "# Note:\n",
    "# The use of exec to execute python code strings seems a bit funny \n",
    "# The normal way woud be \n",
    "# leaf = Symbol(\"leaf\")...\n",
    "# ...\n",
    "# I_leaf\n",
    "t=TimeSymbol(\"t\")\n",
    "\n",
    "mvs = CMTVS(\n",
    "    {\n",
    "        StateVariableTuple((leaf, wood)),\n",
    "        t,\n",
    "        InFluxesBySymbol({leaf: I_leaf(t), wood: I_wood}),\n",
    "        OutFluxesBySymbol({leaf: k_leaf_o(t) * leaf, wood: k_wood_o * wood}),\n",
    "        InternalFluxesBySymbol({(leaf, wood): k_leaf_2_wood * leaf, (wood, leaf): k_wood_2_leaf * wood}),\n",
    "    },\n",
    "\n",
    "    computers=module_computers(bgc_md2.resolve.computers)\n",
    ")"
   ]
  },
  {
   "cell_type": "markdown",
   "id": "3830889e",
   "metadata": {},
   "source": [
    "The last statement in the code defines a variable `mvs` which is \n",
    "an instance of CMTVS which stands for `C`onnected`M`ulti`T`ype`V`ariable`S`et\".\n",
    "It contains information in two forms. \n",
    "1. Variables of certain types (like InFluxesBySymbol)\n",
    "2. Computers, Functions that \"connect\" these Variables and to other results we did not specify but which can be computed.\n",
    "   \n",
    "\n",
    "\n",
    "Tasks:\n",
    "To see what it can do with this information add a new cell an type `mvs.` and press the `tab` key `->`. This will show you the available methods, in other words what can be computed from the provided information.\n",
    "\n",
    "I wanted to see the compartmental the pools, the matrix and the inputs."
   ]
  },
  {
   "cell_type": "code",
   "execution_count": 4,
   "id": "6402bcc9",
   "metadata": {
    "lines_to_next_cell": 2
   },
   "outputs": [
    {
     "name": "stdout",
     "output_type": "stream",
     "text": [
      "{OutputTuple,InputTuple,CompartmentalMatrix}\n",
      "{InFluxesBySymbol,InternalFluxesBySymbol,CompartmentalMatrix,InputTuple,OutputTuple,SmoothReservoirModel,OutFluxesBySymbol}\n",
      "{InFluxesBySymbol,InternalFluxesBySymbol,CompartmentalMatrix,InputTuple,OutputTuple,SmoothReservoirModel,OutFluxesBySymbol}\n"
     ]
    },
    {
     "data": {
      "text/latex": [
       "$\\displaystyle \\left[\\begin{matrix}- k_{leaf 2 wood} - k_{leaf o}{\\left(t \\right)} & k_{wood 2 leaf}\\\\k_{leaf 2 wood} & - k_{wood 2 leaf} - k_{wood o}\\end{matrix}\\right]$"
      ],
      "text/plain": [
       "Matrix([\n",
       "[-k_leaf_2_wood - k_leaf_o(t),             k_wood_2_leaf],\n",
       "[               k_leaf_2_wood, -k_wood_2_leaf - k_wood_o]])"
      ]
     },
     "execution_count": 4,
     "metadata": {},
     "output_type": "execute_result"
    }
   ],
   "source": [
    "mvs.get_CompartmentalMatrix()"
   ]
  },
  {
   "cell_type": "code",
   "execution_count": 5,
   "id": "fecb0910",
   "metadata": {},
   "outputs": [
    {
     "data": {
      "text/latex": [
       "$\\displaystyle \\left[\\begin{matrix}- k_{leaf 2 wood} - k_{leaf o}{\\left(t \\right)} & k_{wood 2 leaf}\\\\k_{leaf 2 wood} & - k_{wood 2 leaf} - k_{wood o}\\end{matrix}\\right]$"
      ],
      "text/plain": [
       "Matrix([\n",
       "[-k_leaf_2_wood - k_leaf_o(t),             k_wood_2_leaf],\n",
       "[               k_leaf_2_wood, -k_wood_2_leaf - k_wood_o]])"
      ]
     },
     "execution_count": 5,
     "metadata": {},
     "output_type": "execute_result"
    }
   ],
   "source": [
    "mvs.get_CompartmentalMatrix()"
   ]
  },
  {
   "cell_type": "code",
   "execution_count": 6,
   "id": "c50b8186",
   "metadata": {},
   "outputs": [
    {
     "data": {
      "text/latex": [
       "$\\displaystyle \\left[\\begin{matrix}I_{leaf}{\\left(t \\right)}\\\\I_{wood}\\end{matrix}\\right]$"
      ],
      "text/plain": [
       "Matrix([\n",
       "[I_leaf(t)],\n",
       "[   I_wood]])"
      ]
     },
     "execution_count": 6,
     "metadata": {},
     "output_type": "execute_result"
    }
   ],
   "source": [
    "mvs.get_InputTuple()"
   ]
  },
  {
   "cell_type": "code",
   "execution_count": 7,
   "id": "2cf3228a",
   "metadata": {},
   "outputs": [
    {
     "data": {
      "text/latex": [
       "$\\displaystyle \\frac{d}{dt}\\left[\\begin{matrix}leaf\\\\wood\\end{matrix}\\right]=\\left[\\begin{matrix}I_{leaf}{\\left(t \\right)}\\\\I_{wood}\\end{matrix}\\right]+\\left[\\begin{matrix}- k_{leaf 2 wood} - k_{leaf o}{\\left(t \\right)} & k_{wood 2 leaf}\\\\k_{leaf 2 wood} & - k_{wood 2 leaf} - k_{wood o}\\end{matrix}\\right]\\left[\\begin{matrix}leaf\\\\wood\\end{matrix}\\right]$"
      ],
      "text/plain": [
       "<IPython.core.display.Math object>"
      ]
     },
     "execution_count": 7,
     "metadata": {},
     "output_type": "execute_result"
    }
   ],
   "source": [
    "# we can also print the whole mass balance equation\n",
    "import bgc_md2.display_helpers as dh\n",
    "dh.mass_balance_equation(mvs)"
   ]
  },
  {
   "cell_type": "code",
   "execution_count": 8,
   "id": "bdda8bd1",
   "metadata": {},
   "outputs": [
    {
     "data": {
      "image/png": "[encoded data removed]",
      "text/plain": [
       "<Figure size 640x480 with 1 Axes>"
      ]
     },
     "execution_count": 8,
     "metadata": {},
     "output_type": "execute_result"
    }
   ],
   "source": [
    "# we can also plot a picture\n",
    "import bgc_md2.helper as h\n",
    "h.compartmental_graph(mvs)"
   ]
  },
  {
   "cell_type": "markdown",
   "id": "bedb5fe3",
   "metadata": {},
   "source": [
    "## Extend the minimal model\n",
    "\n",
    "### Add more state variables and fluxes for soil pools\n",
    "Task:\n",
    "Add new pools for litter (slit), coarse woody debris (scwd) and soil organic matter (som)\n",
    "and fluxes from the vegetation pools to the new pools.\n",
    "\n",
    "To avoid (at the moment) unintelligibleerror messages from the depth of the package, go in small steps:\n",
    "- first add only a new symbol (e.g. for a new pool), \n",
    "- then add the pool to StateVariableTuple\n",
    "- then add a new symbol for a fluxrate or a symbolic function  \n",
    "- then add the flux using the rates \n",
    "- repeat with the next pool,flux\n",
    "\n",
    "The result will look some what like this:"
   ]
  },
  {
   "cell_type": "code",
   "execution_count": 9,
   "id": "f9ea7923",
   "metadata": {},
   "outputs": [],
   "source": [
    "# Make a small dictionary for the variables we will use\n",
    "sym_dict={\n",
    "    \"leaf\": \"vegegation leaf pool\",\n",
    "    \"wood\": \"vegetation wood pool content\",\n",
    "    \"lit\":\"soil litter pool\",\n",
    "    \"som\": \"soil organic litter\",\n",
    "    \"cwd\": \"soil coarse woody debris\",\n",
    "    \"I_wood\": \"Influx into vegetation wood pool\",\n",
    "    \"k_wood_o\": \"out flux rate of wood pool\",\n",
    "    \"k_som_o\": \"out flux rate of som pool\",\n",
    "    \"k_leaf_2_wood\": \"constant internal flux rate from leaf to wood\", \n",
    "    \"k_wood_2_leaf\": \"constant internal flux rate from wood to leaf\", \n",
    "    \"k_leaf_2_lit\": \"flux rate from leaf to litter\",\n",
    "    \"k_wood_2_cwd\": \"flux rate from wood to coarse woody debris\",\n",
    "    \"k_lit_2_som\": \"flux rate from litter to som\",\n",
    "    \"k_cwd_2_som\": \"flux rate from coarse woody debris to som\",\n",
    "}\n",
    "# Make symbols from  the strings that we can later use in expressions  \n",
    "# leaf, wood,...\n",
    "for k in sym_dict.keys():\n",
    "    code=k+\" = Symbol('{0}')\".format(k)\n",
    "    exec(code)\n",
    "\n",
    "# We will also use some symbolic functions (\"symbols\" with an argument) \n",
    "func_dict={\n",
    "    \"I_leaf\": \"Influx into vegetation leaf pool\",\n",
    "    \"k_leaf_o\": \"out flux rate of leaf pool\",\n",
    "}\n",
    "for k in func_dict.keys():\n",
    "    code=k+\" = Function('{0}')\".format(k)\n",
    "    exec(code)\n",
    "\n",
    "t=TimeSymbol(\"t\")\n",
    "\n",
    "mvs = CMTVS(\n",
    "    {\n",
    "        StateVariableTuple((leaf, wood, lit, cwd, som)),\n",
    "        t,\n",
    "        InFluxesBySymbol({leaf: I_leaf(t), wood: I_wood}),\n",
    "        OutFluxesBySymbol({\n",
    "            leaf: k_leaf_o(t) * leaf,\n",
    "            wood: k_wood_o * wood,\n",
    "            som: k_som_o * som,\n",
    "        }),\n",
    "        InternalFluxesBySymbol({\n",
    "            (leaf, wood): k_leaf_2_wood * leaf, \n",
    "            (wood, leaf): k_wood_2_leaf * wood,\n",
    "            (leaf, lit): k_leaf_2_lit * leaf,\n",
    "            (wood, cwd): k_wood_2_cwd * wood,\n",
    "            (lit, som): k_lit_2_som *lit,\n",
    "            (cwd, som): k_cwd_2_som *cwd,\n",
    "        }),\n",
    "    },\n",
    "\n",
    "    computers=module_computers(bgc_md2.resolve.computers)\n",
    ")"
   ]
  },
  {
   "cell_type": "code",
   "execution_count": 10,
   "id": "31316ba1",
   "metadata": {},
   "outputs": [
    {
     "data": {
      "image/png": "[encoded data removed]",
      "text/plain": [
       "<Figure size 640x480 with 1 Axes>"
      ]
     },
     "execution_count": 10,
     "metadata": {},
     "output_type": "execute_result"
    }
   ],
   "source": [
    "h.compartmental_graph(mvs)"
   ]
  },
  {
   "cell_type": "markdown",
   "id": "099fefc8",
   "metadata": {},
   "source": [
    "### Task: Compute the aggregated flux from the vegetation to soil compartments.\n",
    "We want to decompose the model into a soil and vegetation part specify the pools belonging to  vegetation  and soil. \n",
    "We show how do it by hand first and then use ComputabilityGraphs to show us the shortcuts.\n",
    "#### manual Approach"
   ]
  },
  {
   "cell_type": "code",
   "execution_count": 11,
   "id": "0ef2b0c8",
   "metadata": {},
   "outputs": [
    {
     "data": {
      "text/plain": [
       "(k_leaf_2_lit*leaf + k_wood_2_cwd*wood, 0)"
      ]
     },
     "execution_count": 11,
     "metadata": {},
     "output_type": "execute_result"
    }
   ],
   "source": [
    "vcsvt = (wood,leaf)\n",
    "scsvt = (lit, som, cwd)\n",
    "# find the internal fluxes that have a vegetation pool as source and a soil pool target\n",
    "v2sfls= {k:v for k,v in mvs.get_InternalFluxesBySymbol().items() if (k[0] in vcsvt and k[1] in scsvt) }\n",
    "\n",
    "# find the internal fluxes that have a vegetation pool as source and a soil pool target\n",
    "s2vfls= {k:v for k,v in mvs.get_InternalFluxesBySymbol().items() if (k[0] in scsvt and k[1] in vcsvt) }\n",
    "v2sfls,s2vfls\n",
    "\n",
    "# now we can sum those fluxes up\n",
    "v2sAgg = sum(\n",
    "    v2sfls.values()\n",
    ")\n",
    "s2vAgg = sum (\n",
    "    s2vfls.values()\n",
    ")\n",
    "v2sAgg,s2vAgg\n"
   ]
  },
  {
   "cell_type": "markdown",
   "id": "9ed3a832",
   "metadata": {},
   "source": [
    "#### Use ComputatbilityGraphs\n",
    "\n",
    "1. To find out what `mvars` are available to describe what we know about the model we first look at all potentially computable properties.\n",
    "1. We pick one with a promising name and check if it is available. "
   ]
  },
  {
   "cell_type": "code",
   "execution_count": 12,
   "id": "b4d6641c",
   "metadata": {},
   "outputs": [],
   "source": [
    "import ComputabilityGraphs.helpers as cgh\n",
    "computers=module_computers(bgc_md2.resolve.computers)\n",
    "types=cgh.all_mvars(computers)"
   ]
  },
  {
   "cell_type": "markdown",
   "id": "febba76c",
   "metadata": {},
   "source": [
    "Since we are interested in the Fluxes from the Vegetation part to the soil Part, *AggregatedVegetation2SoilCarbonFlux* sounds promising.\n",
    "Let's look up the documentation:"
   ]
  },
  {
   "cell_type": "code",
   "execution_count": 13,
   "id": "5e689781",
   "metadata": {},
   "outputs": [],
   "source": [
    "#?bgc_md2.resolve.mvars.AggregatedVegetation2SoilCarbonFlux"
   ]
  },
  {
   "cell_type": "markdown",
   "id": "c18ae681",
   "metadata": {},
   "source": [
    "We now use the `ComputabilityGraphs` package to find out what information (mvars) we have to provide to compute the `AggregatedVegetation2SoilCarbonFlux`"
   ]
  },
  {
   "cell_type": "code",
   "execution_count": 14,
   "id": "0ffeae5b",
   "metadata": {},
   "outputs": [],
   "source": [
    "\n",
    "ca=h.numbered_aliases(\"f\",computers)\n",
    "ta=h.numbered_aliases(\"T\",types)"
   ]
  },
  {
   "cell_type": "code",
   "execution_count": 15,
   "id": "a90c6cc0",
   "metadata": {},
   "outputs": [],
   "source": [
    "import ComputabilityGraphs.or_graph_helpers as ogh\n",
    "from bgc_md2.resolve.mvars import AggregatedVegetation2SoilCarbonFlux"
   ]
  },
  {
   "cell_type": "code",
   "execution_count": 16,
   "id": "0fff7aac",
   "metadata": {},
   "outputs": [
    {
     "data": {
      "application/vnd.jupyter.widget-view+json": {
       "model_id": "0ec7f13e8a1b499d95b44b04d8b7277a",
       "version_major": 2,
       "version_minor": 0
      },
      "text/plain": [
       "VBox(children=(Box(children=(VBox(children=(Box(children=(Button(button_style='warning', description='T12', la…"
      ]
     },
     "execution_count": 16,
     "metadata": {},
     "output_type": "execute_result"
    }
   ],
   "source": [
    "mvs.jupyter_widget(\n",
    "    root_type=AggregatedVegetation2SoilCarbonFlux,\n",
    "    computer_aliases_tup=ca,\n",
    "    type_aliases_tup=ta \n",
    ")"
   ]
  },
  {
   "cell_type": "markdown",
   "id": "e0da6455",
   "metadata": {},
   "source": [
    "We look up the two \"light red\" = \"not provided\" Types in the legend \n",
    "and see that the only missing variables are SoilCarbonStateVariableTuple and \n",
    "VegetationCarbonStateVariableTuple"
   ]
  },
  {
   "cell_type": "code",
   "execution_count": 17,
   "id": "de719207",
   "metadata": {
    "lines_to_next_cell": 2
   },
   "outputs": [],
   "source": [
    "from bgc_md2.resolve.mvars import VegetationCarbonStateVariableTuple, SoilCarbonStateVariableTuple\n",
    "mvs=mvs.update([\n",
    "    VegetationCarbonStateVariableTuple((leaf,wood)),\n",
    "    SoilCarbonStateVariableTuple((leaf,wood)),\n",
    "])"
   ]
  },
  {
   "cell_type": "code",
   "execution_count": 18,
   "id": "95995d0f",
   "metadata": {},
   "outputs": [
    {
     "data": {
      "text/plain": [
       "frozenset({bgc_md2.resolve.mvars.InFluxesBySymbol,\n",
       "           bgc_md2.resolve.mvars.InternalFluxesBySymbol,\n",
       "           bgc_md2.resolve.mvars.OutFluxesBySymbol,\n",
       "           bgc_md2.resolve.mvars.SoilCarbonStateVariableTuple,\n",
       "           bgc_md2.resolve.mvars.StateVariableTuple,\n",
       "           bgc_md2.resolve.mvars.TimeSymbol,\n",
       "           bgc_md2.resolve.mvars.VegetationCarbonStateVariableTuple})"
      ]
     },
     "execution_count": 18,
     "metadata": {},
     "output_type": "execute_result"
    }
   ],
   "source": [
    "mvs.provided_mvar_types"
   ]
  },
  {
   "cell_type": "code",
   "execution_count": 19,
   "id": "c2d0a682",
   "metadata": {},
   "outputs": [
    {
     "name": "stdout",
     "output_type": "stream",
     "text": [
      "{AggregatedVegetationCarbonOutFlux,AggregatedVegetation2SoilCarbonFlux,InputTuple,AggregatedSoilCarbon,VegetationCarbonInternalFluxesBySymbol,CompartmentalMatrix,AggregatedSoil2VegetationCarbonFlux,OutputTuple,VegetationCarbonOutFluxesBySymbol,AggregatedSoilCarbonOutFlux,AggregatedVegetationCarbon,VegetationCarbonCompartmentalMatrix,AggregatedVegetationCarbonInFlux,VegetationCarbonInFluxesBySymbol}\n",
      "{AggregatedVegetationCarbonOutFlux,InFluxesBySymbol,CompartmentalMatrix,AggregatedSoilCarbon,VegetationCarbonInternalFluxesBySymbol,OutputTuple,InternalFluxesBySymbol,AggregatedSoilCarbonOutFlux,AggregatedVegetationCarbon,AggregatedVegetationCarbonInFlux,OutFluxesBySymbol,VegetationCarbonInFluxesBySymbol,AggregatedVegetation2SoilCarbonFlux,InputTuple,VegetationCarbonInputTuple,VegetationCarbonOutFluxesBySymbol,SmoothReservoirModel,AggregatedSoil2VegetationCarbonFlux,VegetationCarbonCompartmentalMatrix}\n",
      "{AggregatedVegetationCarbonOutFlux,InFluxesBySymbol,CompartmentalMatrix,AggregatedSoilCarbon,VegetationCarbonInternalFluxesBySymbol,OutputTuple,VegetationCarbonInputScalar,InternalFluxesBySymbol,AggregatedSoilCarbonOutFlux,VegetationCarbonInputPartitioningTuple,AggregatedVegetationCarbon,AggregatedVegetationCarbonInFlux,OutFluxesBySymbol,VegetationCarbonInFluxesBySymbol,AggregatedVegetation2SoilCarbonFlux,InputTuple,VegetationCarbonInputTuple,VegetationCarbonOutFluxesBySymbol,SmoothReservoirModel,AggregatedSoil2VegetationCarbonFlux,VegetationCarbonCompartmentalMatrix}\n",
      "{AggregatedVegetationCarbonOutFlux,InFluxesBySymbol,CompartmentalMatrix,AggregatedSoilCarbon,VegetationCarbonInternalFluxesBySymbol,OutputTuple,VegetationCarbonInputScalar,InternalFluxesBySymbol,AggregatedSoilCarbonOutFlux,VegetationCarbonInputPartitioningTuple,AggregatedVegetationCarbon,AggregatedVegetationCarbonInFlux,OutFluxesBySymbol,VegetationCarbonInFluxesBySymbol,AggregatedVegetation2SoilCarbonFlux,InputTuple,VegetationCarbonInputTuple,VegetationCarbonOutFluxesBySymbol,SmoothReservoirModel,AggregatedSoil2VegetationCarbonFlux,VegetationCarbonCompartmentalMatrix}\n"
     ]
    },
    {
     "data": {
      "text/latex": [
       "$\\displaystyle k_{leaf 2 wood} leaf + k_{wood 2 leaf} wood$"
      ],
      "text/plain": [
       "k_leaf_2_wood*leaf + k_wood_2_leaf*wood"
      ]
     },
     "execution_count": 19,
     "metadata": {},
     "output_type": "execute_result"
    }
   ],
   "source": [
    "mvs.get_AggregatedVegetation2SoilCarbonFlux()"
   ]
  },
  {
   "cell_type": "code",
   "execution_count": null,
   "id": "6f75d662",
   "metadata": {},
   "outputs": [],
   "source": []
  }
 ],
 "metadata": {
  "jupytext": {
   "cell_metadata_filter": "-all",
   "formats": "ipynb,py:light",
   "notebook_metadata_filter": "-all"
  },
  "kernelspec": {
   "display_name": "Python 3 (ipykernel)",
   "language": "python",
   "name": "python3"
  },
  "language_info": {
   "codemirror_mode": {
    "name": "ipython",
    "version": 3
   },
   "file_extension": ".py",
   "mimetype": "text/x-python",
   "name": "python",
   "nbconvert_exporter": "python",
   "pygments_lexer": "ipython3",
   "version": "3.9.15"
  }
 },
 "nbformat": 4,
 "nbformat_minor": 5
}
